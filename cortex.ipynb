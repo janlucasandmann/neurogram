{
 "cells": [
  {
   "cell_type": "markdown",
   "id": "14ad9f2f",
   "metadata": {},
   "source": [
    "## Imports"
   ]
  },
  {
   "cell_type": "code",
   "execution_count": 229,
   "id": "9ed4c8a2",
   "metadata": {},
   "outputs": [],
   "source": [
    "import pandas as pd\n",
    "import sklearn\n",
    "from sklearn.ensemble import RandomForestClassifier\n",
    "from sklearn.datasets import make_classification\n",
    "from sklearn.metrics import matthews_corrcoef\n",
    "import matplotlib.pyplot as plt\n",
    "import numpy as np\n",
    "from sklearn import linear_model\n",
    "import random\n",
    "import sys\n",
    "import math\n",
    "\n",
    "from sklearn.linear_model import RidgeCV\n",
    "from sklearn.feature_selection import SequentialFeatureSelector\n",
    "\n",
    "from sklearn import linear_model\n",
    "from sklearn.linear_model import SGDClassifier\n",
    "from sklearn import svm\n",
    "\n",
    "import firebase_admin\n",
    "from firebase_admin import credentials\n",
    "from firebase_admin import firestore\n",
    "\n",
    "import time\n",
    "from sklearn.ensemble import AdaBoostClassifier\n",
    "\n",
    "from sklearn.neighbors import KNeighborsClassifier\n",
    "\n",
    "from sklearn.naive_bayes import GaussianNB\n",
    "\n",
    "import genetic as gen\n",
    "import helpers as hp\n",
    "from sklearn.ensemble import RandomForestClassifier\n",
    "from sklearn.datasets import make_hastie_10_2\n",
    "from sklearn.ensemble import GradientBoostingClassifier\n",
    "from sklearn import metrics\n",
    "\n",
    "from sklearn.feature_selection import SelectKBest, chi2, f_classif\n",
    "from sklearn.metrics import accuracy_score\n",
    "from sklearn.metrics import log_loss"
   ]
  },
  {
   "cell_type": "markdown",
   "id": "b28c5a5b",
   "metadata": {},
   "source": [
    "# Firebase"
   ]
  },
  {
   "cell_type": "code",
   "execution_count": 230,
   "id": "4a627262",
   "metadata": {},
   "outputs": [
    {
     "ename": "ValueError",
     "evalue": "The default Firebase app already exists. This means you called initialize_app() more than once without providing an app name as the second argument. In most cases you only need to call initialize_app() once. But if you do want to initialize multiple apps, pass a second argument to initialize_app() to give each app a unique name.",
     "output_type": "error",
     "traceback": [
      "\u001b[0;31m---------------------------------------------------------------------------\u001b[0m",
      "\u001b[0;31mValueError\u001b[0m                                Traceback (most recent call last)",
      "\u001b[0;32m/var/folders/m7/q114wcy152nc5tqs2955xk0w0000gn/T/ipykernel_5783/2026117400.py\u001b[0m in \u001b[0;36m<module>\u001b[0;34m\u001b[0m\n\u001b[1;32m      1\u001b[0m \u001b[0mcred\u001b[0m \u001b[0;34m=\u001b[0m \u001b[0mcredentials\u001b[0m\u001b[0;34m.\u001b[0m\u001b[0mCertificate\u001b[0m\u001b[0;34m(\u001b[0m\u001b[0;34m'private-key.json'\u001b[0m\u001b[0;34m)\u001b[0m\u001b[0;34m\u001b[0m\u001b[0;34m\u001b[0m\u001b[0m\n\u001b[0;32m----> 2\u001b[0;31m \u001b[0mfirebase_admin\u001b[0m\u001b[0;34m.\u001b[0m\u001b[0minitialize_app\u001b[0m\u001b[0;34m(\u001b[0m\u001b[0mcred\u001b[0m\u001b[0;34m)\u001b[0m\u001b[0;34m\u001b[0m\u001b[0;34m\u001b[0m\u001b[0m\n\u001b[0m\u001b[1;32m      3\u001b[0m \u001b[0mdb\u001b[0m \u001b[0;34m=\u001b[0m \u001b[0mfirestore\u001b[0m\u001b[0;34m.\u001b[0m\u001b[0mclient\u001b[0m\u001b[0;34m(\u001b[0m\u001b[0;34m)\u001b[0m\u001b[0;34m\u001b[0m\u001b[0;34m\u001b[0m\u001b[0m\n",
      "\u001b[0;32m/opt/miniconda3/lib/python3.9/site-packages/firebase_admin/__init__.py\u001b[0m in \u001b[0;36minitialize_app\u001b[0;34m(credential, options, name)\u001b[0m\n\u001b[1;32m     69\u001b[0m \u001b[0;34m\u001b[0m\u001b[0m\n\u001b[1;32m     70\u001b[0m     \u001b[0;32mif\u001b[0m \u001b[0mname\u001b[0m \u001b[0;34m==\u001b[0m \u001b[0m_DEFAULT_APP_NAME\u001b[0m\u001b[0;34m:\u001b[0m\u001b[0;34m\u001b[0m\u001b[0;34m\u001b[0m\u001b[0m\n\u001b[0;32m---> 71\u001b[0;31m         raise ValueError((\n\u001b[0m\u001b[1;32m     72\u001b[0m             \u001b[0;34m'The default Firebase app already exists. This means you called '\u001b[0m\u001b[0;34m\u001b[0m\u001b[0;34m\u001b[0m\u001b[0m\n\u001b[1;32m     73\u001b[0m             \u001b[0;34m'initialize_app() more than once without providing an app name as '\u001b[0m\u001b[0;34m\u001b[0m\u001b[0;34m\u001b[0m\u001b[0m\n",
      "\u001b[0;31mValueError\u001b[0m: The default Firebase app already exists. This means you called initialize_app() more than once without providing an app name as the second argument. In most cases you only need to call initialize_app() once. But if you do want to initialize multiple apps, pass a second argument to initialize_app() to give each app a unique name."
     ]
    }
   ],
   "source": [
    "cred = credentials.Certificate('private-key.json')\n",
    "firebase_admin.initialize_app(cred)\n",
    "db = firestore.client()"
   ]
  },
  {
   "cell_type": "code",
   "execution_count": 231,
   "id": "fce28b23",
   "metadata": {},
   "outputs": [],
   "source": [
    "# Set up Firebase test document\n",
    "db = firestore.client()\n",
    "\n",
    "collection = db.collection(\"cortex\")\n",
    "doc = collection.document(\"cortex\")"
   ]
  },
  {
   "cell_type": "markdown",
   "id": "47f6b320",
   "metadata": {},
   "source": [
    "## Helpers "
   ]
  },
  {
   "cell_type": "code",
   "execution_count": 232,
   "id": "8b182096",
   "metadata": {},
   "outputs": [],
   "source": [
    "def shuffle_dataset(x,y):\n",
    "    c = list(zip(x, y))\n",
    "    random.shuffle(c)\n",
    "    x, y = zip(*c)\n",
    "    return(x,y)"
   ]
  },
  {
   "cell_type": "markdown",
   "id": "9331041b",
   "metadata": {},
   "source": [
    "## Global variables "
   ]
  },
  {
   "cell_type": "code",
   "execution_count": 233,
   "id": "d9e44d2f",
   "metadata": {},
   "outputs": [],
   "source": [
    "global_number_of_feature_selection_methods = 2"
   ]
  },
  {
   "cell_type": "markdown",
   "id": "1c555df8",
   "metadata": {},
   "source": [
    "# Import data and events"
   ]
  },
  {
   "cell_type": "code",
   "execution_count": 234,
   "id": "6b684285",
   "metadata": {},
   "outputs": [],
   "source": [
    "url = \"https://raw.githubusercontent.com/janlucasandmann/Brainbridge/main/data/1643297048.3875499.csv\"\n",
    "data_raw = pd.read_csv(url).values.tolist()\n",
    "y = [0,0,0,0,0,0,0,0,0,0,0,0,0,0,0,0,0,0,0,0,0,0,0,0,0,0,0,0,0,0,0,0,0,0,0,0,0,0,0,0,0,0,0,0,0,0,0,0,0,0,0,0,0,0,0,0,0,0,0,0,0,0,0,0,0,0,0,0,0,0,1,1,1,1,1,1,1,1,1,1,1,1,1,1,1,1,1,1,1,1,1,1,1,1,1,1,1,1,1,1,1,1,1,1,1,1,1,1,1,1,1,1,1,1,1,1,1,1,1,1,1,1,1,1,1,1,1,1,1,1,1,1,1,1,1,1,1,1,1,1,1,1,1,1,1,1,1,1,1,1,1,1,1,1,1,1,1,1,1,1,1,1,1,1,1,1,1,1,1,1,1,1,1,1,1,1,1,1,1,1,1,1,1,1,1,1,1,1,1,1,1,1,1,1,1,1,1,1,1,1,1,1,1,1,1,1,1,1,1,1,1,1,1,1,1,1,1,1,1,1,1,1,1,1,1,1,1,1,1,1,1,1,1,1,1,1,1,1,1,1,1,1,1,1,1,1,1,1,1,1,1,1,1,1,1,1,1,1,1,1,1,1,1,1,1,1,1,1,1,1,0,0,0,0,0,0,0,0,0,0,0,0,0,0,0,0,0,0,0,0,0,0,0,0,0,0,0,0,0,0,0,0,0,0,0,0,0,0,0,0,0,0,0,0,0,0,0,0,0,0,0,0,0,0,0,0,0,0,0,0,0,0,0,0,0,0,0,0,0,0,0,0,0,0,0,0,0,0,0,0,0,0,0,0,0,0,0,0,0,0,0,0,0,0,0,0,0,0,0,0,0,0,0,0,0,0,0,0,0,0,0,0,0,0,0,0,0,0,0,0,0,0,0,0,0,0,0,0,0,0]"
   ]
  },
  {
   "cell_type": "markdown",
   "id": "0036e0e7",
   "metadata": {},
   "source": [
    "## Clean up data"
   ]
  },
  {
   "cell_type": "code",
   "execution_count": 235,
   "id": "fa0a272a",
   "metadata": {},
   "outputs": [],
   "source": [
    "def deleteNaN(x, num_of_dimensions):\n",
    "    res = []\n",
    "    \n",
    "    if num_of_dimensions == 1:\n",
    "        for val in x:\n",
    "            if math.isnan(val):\n",
    "                    res.append(0)\n",
    "            else:\n",
    "                res.append(val)\n",
    "            \n",
    "    elif num_of_dimensions == 2:\n",
    "        for row in x:\n",
    "            row_new = []\n",
    "            for val in row:\n",
    "                if math.isnan(val):\n",
    "                    row_new.append(0)\n",
    "                else:\n",
    "                    row_new.append(val)\n",
    "            res.append(row_new)\n",
    "    \n",
    "    return res        "
   ]
  },
  {
   "cell_type": "markdown",
   "id": "375f034b",
   "metadata": {},
   "source": [
    "## Check validity of data"
   ]
  },
  {
   "cell_type": "code",
   "execution_count": 236,
   "id": "68f51df2",
   "metadata": {},
   "outputs": [],
   "source": [
    "def checkMatchingOfDatasetLength(x,y):\n",
    "    if len(x) == len(y):\n",
    "        return(True, len(x), len(y))\n",
    "    else:\n",
    "        return(False)"
   ]
  },
  {
   "cell_type": "markdown",
   "id": "1fad5a1e",
   "metadata": {},
   "source": [
    "# Analyze complexity of data"
   ]
  },
  {
   "cell_type": "code",
   "execution_count": 237,
   "id": "3782eec9",
   "metadata": {},
   "outputs": [],
   "source": [
    "def getSize(x,y):\n",
    "    xSize = sys.getsizeof(x)\n",
    "    ySize = sys.getsizeof(y)\n",
    "    return xSize + ySize\n",
    "\n",
    "def splitData(x, y, packageSize):\n",
    "    x_res = []\n",
    "    y_res = []\n",
    "    c = 0 # counter\n",
    "    xc = 0 # counter for datarows in x\n",
    "    \n",
    "    print(len(y))\n",
    "    \n",
    "    y_res_row = []\n",
    "    x_res_row = []\n",
    "    \n",
    "    for i in y:\n",
    "        if c < packageSize:\n",
    "            y_res_row.append(i)\n",
    "            x_res_row.append(x[xc])\n",
    "            \n",
    "            c += 1\n",
    "        else:\n",
    "            y_res.append(y_res_row)\n",
    "            y_res_row = []\n",
    "            x_res.append(x_res_row)\n",
    "            x_res_row = []\n",
    "            \n",
    "            x_res_row.append(x[xc])\n",
    "            y_res_row.append(i)\n",
    "            \n",
    "            c = 0\n",
    "            \n",
    "        xc += 1\n",
    "        \n",
    "    x_res.append(x_res_row)\n",
    "    y_res.append(y_res_row)\n",
    "        \n",
    "    return(x_res, y_res)\n",
    "\n",
    "def decideDataSplitByLoadingTime(time, x, y, shuffle):\n",
    "    if shuffle:\n",
    "        x,y = shuffle_dataset(x,y)\n",
    "        \n",
    "        # Estimate loading time for different feature generation / selection\n",
    "        # algorithms and training of AI models\n",
    "        \n",
    "    return(splitData(x, y, 200))"
   ]
  },
  {
   "cell_type": "code",
   "execution_count": 238,
   "id": "29308597",
   "metadata": {},
   "outputs": [],
   "source": [
    "def independenceTest(x, y, subset_size, iterations):\n",
    "    \n",
    "    i = 0\n",
    "    x_res = []\n",
    "    y_res = []\n",
    "    corrs = []\n",
    "    \n",
    "    while i < iterations:\n",
    "        x_new, y_new = shuffle_dataset(x,y)\n",
    "        \n",
    "        x_new_res = x_new[:subset_size]\n",
    "        y_new_res = y_new[:subset_size]\n",
    "        \n",
    "        corr_raw = 0\n",
    "        val_counter = 0\n",
    "        \n",
    "        for row in np.corrcoef(x_new_res, x):\n",
    "            for val in row:\n",
    "                corr_raw += math.sqrt(val ** 2)\n",
    "                val_counter += 1\n",
    "            \n",
    "        corr = corr_raw / val_counter\n",
    "        x_res.append(x_new_res)\n",
    "        y_res.append(y_new_res)\n",
    "        corrs.append(corr)\n",
    "        \n",
    "        i += 1\n",
    "        \n",
    "    idx_order = np.argsort(np.array(corrs))[::-1]\n",
    "    \n",
    "    corrs_sorted = np.array(corrs)[idx_order]\n",
    "    x_res_sorted = np.array(x_res)[idx_order]\n",
    "    y_res_sorted = np.array(y_res)[idx_order]\n",
    "    \n",
    "    return(x_res_sorted[0], y_res_sorted[0], corrs_sorted[0])"
   ]
  },
  {
   "cell_type": "code",
   "execution_count": 239,
   "id": "0888b92d",
   "metadata": {},
   "outputs": [],
   "source": [
    "def execute_independenceTest(x,y,dataset_reduction_size):\n",
    "    print(\"Split dataset: independence test\")\n",
    "    start = time.time()\n",
    "    c = 0\n",
    "    while c < 0.83:\n",
    "        x,y,c = independenceTest(x, y, dataset_reduction_size, 100)\n",
    "    print(\"Correlation between datasets: \", c)\n",
    "    end = time.time()\n",
    "    independence_test_time = end - start\n",
    "    \n",
    "    return(x,y,independence_test_time)"
   ]
  },
  {
   "cell_type": "markdown",
   "id": "9e284316",
   "metadata": {},
   "source": [
    "# Artifact Removal "
   ]
  },
  {
   "cell_type": "code",
   "execution_count": 240,
   "id": "a2e9223d",
   "metadata": {},
   "outputs": [],
   "source": [
    "def artifactRemoval(x,y):\n",
    "    return x,y"
   ]
  },
  {
   "cell_type": "markdown",
   "id": "9f734b70",
   "metadata": {},
   "source": [
    "# Feature Generation"
   ]
  },
  {
   "cell_type": "markdown",
   "id": "0bb4c0a6",
   "metadata": {},
   "source": [
    "### Generation of features, that describe intervals as a whole"
   ]
  },
  {
   "cell_type": "code",
   "execution_count": 241,
   "id": "d2ff7e8e",
   "metadata": {},
   "outputs": [],
   "source": [
    "def getMeans(x):\n",
    "    res = []\n",
    "    \n",
    "    for row in x:\n",
    "        res.append(np.mean(row))\n",
    "        \n",
    "    return res"
   ]
  },
  {
   "cell_type": "markdown",
   "id": "4e37be75",
   "metadata": {},
   "source": [
    "# Create validation set"
   ]
  },
  {
   "cell_type": "code",
   "execution_count": 335,
   "id": "d756a39a",
   "metadata": {},
   "outputs": [],
   "source": [
    "def createValidationSet(x, y, split_number):\n",
    "    x_res, y_res, x_val, y_val = [], [], [], []\n",
    "    \n",
    "    i = 0\n",
    "    for row in x:\n",
    "        if i < len(x) - split_number:\n",
    "            x_res.append(row)\n",
    "            y_res.append(y[i])\n",
    "        else:\n",
    "            x_val.append(x[i])\n",
    "            y_val.append(y[i])\n",
    "        i += 1\n",
    "        \n",
    "    print(len(x_res), len(y_res), len(x_val), len(y_val), \" Was ist in createValidationSet los?\")\n",
    "    \n",
    "    return(x_res, y_res, x_val, y_val)"
   ]
  },
  {
   "cell_type": "markdown",
   "id": "883983da",
   "metadata": {},
   "source": [
    "# Feature Selection"
   ]
  },
  {
   "cell_type": "code",
   "execution_count": 243,
   "id": "dd88d14c",
   "metadata": {},
   "outputs": [],
   "source": [
    "def ridgeFeatureSelection(x,y, num_of_features): \n",
    "    indices = []\n",
    "    c = 0\n",
    "    for val in x[0]:\n",
    "        indices.append(c)\n",
    "        c += 1\n",
    "    \n",
    "    ridge = RidgeCV(alphas=np.logspace(-10, 10, num=1)).fit(x,y)\n",
    "    importance = np.array(np.abs(ridge.coef_))\n",
    "    \n",
    "    res = []\n",
    "    \n",
    "    idx_order = np.argsort(importance)[::-1]\n",
    "    indices = np.array(indices)[idx_order]\n",
    "    \n",
    "    for row in x:\n",
    "        row_sorted = np.array(row)[idx_order]\n",
    "        res.append(row_sorted[:num_of_features])\n",
    "        \n",
    "    return(res, indices[:num_of_features])"
   ]
  },
  {
   "cell_type": "code",
   "execution_count": 244,
   "id": "9b7fafb7",
   "metadata": {},
   "outputs": [],
   "source": [
    "def skbFeatureSelection(x,y,num_of_features):\n",
    "    print(\"Start fitting SKB model\")\n",
    "    selector = SelectKBest(score_func=f_classif, k=num_of_features)\n",
    "    selector.fit(x, y)\n",
    "    indices = selector.get_support()\n",
    "    print(\"Finished fitting SKB model\")\n",
    "    \n",
    "    res = []\n",
    "    selected_indices = []\n",
    "    \n",
    "    for row in x:\n",
    "        c = 0\n",
    "        row_res = []\n",
    "        for val in row:\n",
    "            if indices[c] == True:\n",
    "                row_res.append(val)\n",
    "            c += 1\n",
    "        res.append(row_res)\n",
    "        \n",
    "    c = 0\n",
    "    \n",
    "    for val in indices:\n",
    "        if val == True:\n",
    "            selected_indices.append(c)\n",
    "        c += 1\n",
    "              \n",
    "    return(res, selected_indices)"
   ]
  },
  {
   "cell_type": "code",
   "execution_count": 245,
   "id": "49283298",
   "metadata": {},
   "outputs": [],
   "source": [
    "def sfsForwardFeatureSelection(x,y, num_of_features):  \n",
    "    \n",
    "    ridge = RidgeCV(alphas=np.logspace(-10, 10, num=1)).fit(x,y)\n",
    "    \n",
    "    sfs_forward = SequentialFeatureSelector(\n",
    "        ridge, n_features_to_select=num_of_features, direction=\"forward\"\n",
    "    ).fit(x, y)\n",
    "    \n",
    "    indices = sfs_forward.get_support()\n",
    "    res = []\n",
    "    selected_indices = []\n",
    "    \n",
    "    for row in x:\n",
    "        c = 0\n",
    "        row_res = []\n",
    "        for val in row:\n",
    "            if indices[c] == 1:\n",
    "                row_res.append(val)\n",
    "            c += 1\n",
    "        res.append(row_res)\n",
    "        \n",
    "    c = 0\n",
    "    \n",
    "    for val in indices:\n",
    "        if val == 1:\n",
    "            selected_indices.append(c)\n",
    "        c += 1\n",
    "              \n",
    "    return(res, selected_indices)"
   ]
  },
  {
   "cell_type": "code",
   "execution_count": 246,
   "id": "136e078c",
   "metadata": {},
   "outputs": [],
   "source": [
    "def sfsBackwardFeatureSelection(x,y, num_of_features):    \n",
    "    \n",
    "    ridge = RidgeCV(alphas=np.logspace(-10, 10, num=1)).fit(x,y)\n",
    "    \n",
    "    sfs_backward = SequentialFeatureSelector(\n",
    "        ridge, n_features_to_select=num_of_features, direction=\"backward\"\n",
    "    ).fit(x, y)\n",
    "    \n",
    "    indices = sfs_backward.get_support()\n",
    "    res = []\n",
    "    selected_indices = []\n",
    "    \n",
    "    for row in x:\n",
    "        c = 0\n",
    "        row_res = []\n",
    "        for val in row:\n",
    "            if indices[c] == 1:\n",
    "                row_res.append(val)\n",
    "            c += 1\n",
    "        res.append(row_res)\n",
    "        \n",
    "    c = 0\n",
    "    \n",
    "    for val in indices:\n",
    "        if val == 1:\n",
    "            selected_indices.append(c)\n",
    "        c += 1\n",
    "    \n",
    "              \n",
    "    return(res, selected_indices)"
   ]
  },
  {
   "cell_type": "code",
   "execution_count": 247,
   "id": "e6130133",
   "metadata": {},
   "outputs": [],
   "source": [
    "def featureSelectionValidation(x, indices):\n",
    "    res = []\n",
    "    \n",
    "    for row in x:\n",
    "        res_row = []\n",
    "        c = 0\n",
    "        for val in row:\n",
    "            if c in indices:\n",
    "                res_row.append(val)\n",
    "            c += 1\n",
    "        res.append(res_row)\n",
    "        \n",
    "    return res"
   ]
  },
  {
   "cell_type": "code",
   "execution_count": 311,
   "id": "e8e411d4",
   "metadata": {},
   "outputs": [],
   "source": [
    "def execute_featureSelection(x,y,x_val,number_of_features):\n",
    "    sfsForwardFeatureSelection_time = 0\n",
    "    # Feature selection\n",
    "    print(\"Feature selection: skbFeatureSelection\")\n",
    "    start = time.time()\n",
    "    features_a, indices_a = skbFeatureSelection(x,y, number_of_features)\n",
    "    end = time.time()\n",
    "    ridgeFeatureSelection_time = end - start\n",
    "    print(\"Feature selection: sfsForwardFeatureSelection\")\n",
    "    #start = time.time()\n",
    "    #features_b, indices_b = sfsForwardFeatureSelection(x,y, number_of_features)\n",
    "    #end = time.time()\n",
    "    #sfsForwardFeatureSelection_time = end - start\n",
    "    print(\"Feature selection: Genetic algorithm\")\n",
    "    start = time.time()\n",
    "    indices_c = gen.simulateEvolution(transposeForGeneticAlgorithm(x), number_of_features, 96, 5, 20, 0.5, (len(y) - 40), 250, y)\n",
    "    features_c = featureSelectionValidation(x, indices_c)\n",
    "    end = time.time()\n",
    "    geneticAlgorithmFeatureSelection_time = end - start\n",
    "    features = [features_a, features_c]\n",
    "    #features = [features_a, features_b, features_c]\n",
    "    indices_combined = [indices_a, indices_c]\n",
    "    #indices_combined = [indices_a, indices_b, indices_c]\n",
    "\n",
    "    # Feature selection for validation set\n",
    "    features_val_a = featureSelectionValidation(x_val, indices_a)\n",
    "    #features_val_b = featureSelectionValidation(x_val, indices_b)\n",
    "    features_val_c = featureSelectionValidation(x_val, indices_c)\n",
    "\n",
    "    #features_val = [features_val_a, features_val_b, features_val_c]\n",
    "    features_val = [features_val_a, features_val_c]\n",
    "    \n",
    "    return(features, features_val, indices_combined, ridgeFeatureSelection_time, sfsForwardFeatureSelection_time, geneticAlgorithmFeatureSelection_time)"
   ]
  },
  {
   "cell_type": "code",
   "execution_count": 317,
   "id": "3ea65c9c",
   "metadata": {},
   "outputs": [],
   "source": [
    "def execute_featureSelection_nof(x,y,x_val, number_of_features):\n",
    "    sfsForwardFeatureSelection_time = 0\n",
    "    features, indices = skbFeatureSelection(x,y, number_of_features)\n",
    "    # Feature selection for validation set\n",
    "    features_val = featureSelectionValidation(x_val, indices)\n",
    "    \n",
    "    return features, features_val"
   ]
  },
  {
   "cell_type": "markdown",
   "id": "900977cc",
   "metadata": {},
   "source": [
    "# Model Selection"
   ]
  },
  {
   "cell_type": "code",
   "execution_count": 249,
   "id": "c528e678",
   "metadata": {},
   "outputs": [],
   "source": [
    "def linearModel(x,y):\n",
    "    reg = linear_model.Ridge(alpha=.5)\n",
    "    reg.fit(x,y)\n",
    "    return reg"
   ]
  },
  {
   "cell_type": "code",
   "execution_count": 250,
   "id": "5aacb3f1",
   "metadata": {},
   "outputs": [],
   "source": [
    "def linearModelLasso(x,y):\n",
    "    reg = linear_model.Lasso(alpha=0.001)\n",
    "    reg.fit(x,y)\n",
    "    return reg"
   ]
  },
  {
   "cell_type": "code",
   "execution_count": 251,
   "id": "d34193bb",
   "metadata": {},
   "outputs": [],
   "source": [
    "def linearModelLassoLars(x,y):\n",
    "    reg = linear_model.LassoLars(alpha=0.001, normalize=True)\n",
    "    reg.fit(x,y)\n",
    "    return reg"
   ]
  },
  {
   "cell_type": "code",
   "execution_count": 252,
   "id": "1a06f1cf",
   "metadata": {},
   "outputs": [],
   "source": [
    "def supportVectorMachine(x,y):\n",
    "    clf = svm.SVC()\n",
    "    clf.fit(x,y)\n",
    "    return clf"
   ]
  },
  {
   "cell_type": "code",
   "execution_count": 253,
   "id": "fda04b65",
   "metadata": {},
   "outputs": [],
   "source": [
    "def stochasticGradient(x,y):\n",
    "    clf = SGDClassifier(loss=\"hinge\", penalty=\"l2\", max_iter=40)\n",
    "    clf.fit(x,y)\n",
    "    return clf"
   ]
  },
  {
   "cell_type": "code",
   "execution_count": 254,
   "id": "9c7d53f0",
   "metadata": {},
   "outputs": [],
   "source": [
    "def randomForest(x,y,depth=10):\n",
    "    clf = RandomForestClassifier(max_depth=depth, random_state=0)\n",
    "    clf.fit(x, y)\n",
    "    return clf"
   ]
  },
  {
   "cell_type": "code",
   "execution_count": 255,
   "id": "90c04369",
   "metadata": {},
   "outputs": [],
   "source": [
    "def adaBoost(x,y,estimators=100):\n",
    "    clf = AdaBoostClassifier(n_estimators=estimators, random_state=0)\n",
    "    clf.fit(x, y)\n",
    "    return clf"
   ]
  },
  {
   "cell_type": "code",
   "execution_count": 256,
   "id": "b0b800a0",
   "metadata": {},
   "outputs": [],
   "source": [
    "def knn(x,y,neighbors=10):\n",
    "    neigh = KNeighborsClassifier(n_neighbors=neighbors)\n",
    "    neigh.fit(x, y)\n",
    "    return neigh"
   ]
  },
  {
   "cell_type": "code",
   "execution_count": 257,
   "id": "7211228d",
   "metadata": {},
   "outputs": [],
   "source": [
    "def gaussianNB(x,y,):\n",
    "    clf = GaussianNB()\n",
    "    clf.fit(x,y)\n",
    "    return clf"
   ]
  },
  {
   "cell_type": "markdown",
   "id": "dc571a71",
   "metadata": {},
   "source": [
    "# Model evaluation"
   ]
  },
  {
   "cell_type": "code",
   "execution_count": 265,
   "id": "1bc405db",
   "metadata": {},
   "outputs": [],
   "source": [
    "def trainModels(x,y):\n",
    "    a = gaussianNB(x,y)\n",
    "    b = knn(x,y)\n",
    "    c = adaBoost(x,y)\n",
    "    d = stochasticGradient(x,y)\n",
    "    e = randomForest(x,y)\n",
    "    \n",
    "    return([a,b,c,d,e])"
   ]
  },
  {
   "cell_type": "code",
   "execution_count": 266,
   "id": "046dec17",
   "metadata": {},
   "outputs": [],
   "source": [
    "def makePredictions(models, x):\n",
    "    res = []\n",
    "    \n",
    "    for model in models:\n",
    "        res.append(model.predict(x))\n",
    "        \n",
    "    return res"
   ]
  },
  {
   "cell_type": "code",
   "execution_count": 295,
   "id": "22ae7a6c",
   "metadata": {},
   "outputs": [],
   "source": [
    "def evaluateModels(predictions, y):\n",
    "    corrs = []\n",
    "    losses = []\n",
    "    accuracies = []\n",
    "    \n",
    "    print(len(y_val), len(y))\n",
    "    \n",
    "    for pred in predictions:\n",
    "        print(\"loss\", log_loss([pred], [y]))\n",
    "        print(\"accuracy\", accuracy_score(pred, y))\n",
    "        \n",
    "        try:\n",
    "            corrs.append(np.corrcoef(pred,y)[0][1])\n",
    "        except:\n",
    "            corrs.append(0)\n",
    "        try:\n",
    "            losses.append(log_loss(pred, y))\n",
    "        except:\n",
    "            losses.append(0)\n",
    "        try:\n",
    "            accuracies.append(accuracy_score(pred, y))\n",
    "        except:\n",
    "            accuracies.append(0)\n",
    "        \n",
    "        \n",
    "    return corrs, accuracies, losses"
   ]
  },
  {
   "cell_type": "code",
   "execution_count": 296,
   "id": "e67e84b2",
   "metadata": {},
   "outputs": [],
   "source": [
    "def execute_modelTraining(features,y, features_val, y_val, indices_combined):\n",
    "    models = []\n",
    "    models_flat = []\n",
    "    pred_res = []\n",
    "    indices_res = []\n",
    "\n",
    "    c = 0\n",
    "    print(\"Train models\")\n",
    "    start = time.time()\n",
    "    for feature in features:\n",
    "        m_temp = trainModels(feature,y)\n",
    "        models.append(m_temp)\n",
    "\n",
    "        for row in m_temp:\n",
    "            indices_res.append(indices_combined[c])\n",
    "\n",
    "        c += 1\n",
    "    end = time.time()\n",
    "    train_time = end - start\n",
    "    print(\"Make predictions\")\n",
    "    i = 0\n",
    "    for model_section in models:\n",
    "        pred_res.append(makePredictions(model_section, features_val[i]))\n",
    "        for model in model_section:\n",
    "            models_flat.append(model)\n",
    "        i += 1\n",
    "\n",
    "\n",
    "    pred = []\n",
    "    for pred_section in pred_res:\n",
    "        for pr in pred_section:\n",
    "            pred.append(pr)\n",
    "\n",
    "    evaluation, accuracy, loss = evaluateModels(pred, y_val)\n",
    "    evaluation = deleteNaN(evaluation, 1)\n",
    "    accuracy = deleteNaN(accuracy, 1)\n",
    "    loss = deleteNaN(loss, 1)\n",
    "    \n",
    "    return models_flat, evaluation, accuracy, loss, train_time, indices_res"
   ]
  },
  {
   "cell_type": "code",
   "execution_count": 319,
   "id": "aa73dc97",
   "metadata": {},
   "outputs": [],
   "source": [
    "def execute_modelEvaluation_nof(x, y, x_val, y_val):\n",
    "    model = adaBoost(x,y,estimators=100)\n",
    "    pred = model.predict(x_val)\n",
    "    \n",
    "    return np.corrcoef(pred, y_val)[0][1]"
   ]
  },
  {
   "cell_type": "code",
   "execution_count": 297,
   "id": "584ee3b7",
   "metadata": {},
   "outputs": [],
   "source": [
    "def chooseModelBasedOnTraining(models, evaluations, x, y):\n",
    "    \n",
    "    global global_number_of_feature_selection_methods\n",
    "    modulo = len(models) / global_number_of_feature_selection_methods\n",
    "        \n",
    "    c = 0\n",
    "    \n",
    "    while c < len(models):\n",
    "        if c == np.argmax(evaluations) and c % modulo == 0:\n",
    "            return gaussianNB(x,y)\n",
    "        elif c == np.argmax(evaluations) and c % modulo == 1:\n",
    "            return knn(x,y)\n",
    "        elif c == np.argmax(evaluations) and c % modulo == 2:\n",
    "            return adaBoost(x,y)\n",
    "        elif c == np.argmax(evaluations) and c % modulo == 3:\n",
    "            return stochasticGradient(x,y)\n",
    "        elif c == np.argmax(evaluations) and c % modulo == 4:\n",
    "            return randomForest(x,y)\n",
    "        \n",
    "        c += 1"
   ]
  },
  {
   "cell_type": "code",
   "execution_count": 298,
   "id": "f60dda56",
   "metadata": {},
   "outputs": [],
   "source": [
    "def chooseModelBasedOnTrainingTest(right_index):\n",
    "    \n",
    "    global global_number_of_feature_selection_methods\n",
    "    \n",
    "    modulo = 6\n",
    "        \n",
    "    c = 0\n",
    "    fs_count = 0\n",
    "    i_count = 0\n",
    "    \n",
    "    while c < 12:\n",
    "        if c == right_index and c % modulo == 0:\n",
    "            return 0\n",
    "        elif c == right_index and c % modulo == 1:\n",
    "            return 1\n",
    "        elif c == right_index and c % modulo == 2:\n",
    "            return 2\n",
    "        elif c == right_index and c % modulo == 3:\n",
    "            return 3\n",
    "        elif c == right_index and c % modulo == 4:\n",
    "            return 4\n",
    "        elif c == right_index and c % modulo == 5:\n",
    "            return 5\n",
    "        \n",
    "        c += 1"
   ]
  },
  {
   "cell_type": "code",
   "execution_count": 299,
   "id": "2c794a2c",
   "metadata": {},
   "outputs": [
    {
     "name": "stdout",
     "output_type": "stream",
     "text": [
      "0\n",
      "1\n",
      "2\n",
      "3\n",
      "4\n",
      "5\n",
      "0\n",
      "1\n",
      "2\n",
      "3\n",
      "4\n",
      "5\n"
     ]
    }
   ],
   "source": [
    "i = 0\n",
    "while i < 12:\n",
    "    print(chooseModelBasedOnTrainingTest(i))\n",
    "    i += 1"
   ]
  },
  {
   "cell_type": "code",
   "execution_count": 272,
   "id": "17ea2227",
   "metadata": {},
   "outputs": [],
   "source": [
    "def transposeForGeneticAlgorithm(x):\n",
    "    # Manually transpose array, because np.tranpose does not work here (why ever)...\n",
    "    c = 0\n",
    "    X_reduced_res_transposed = []\n",
    "    len_row_zero = 0\n",
    "    events_ref = []\n",
    "\n",
    "    while c < len(x[0]):\n",
    "        X_reduced_res_transposed_row = []\n",
    "        for row in x:\n",
    "            i = 0\n",
    "            for val in row:\n",
    "                if i == c:\n",
    "                    X_reduced_res_transposed_row.append(val)\n",
    "                i += 1\n",
    "\n",
    "        if c == 0: # in some cases the row contains too few values. If so, this must be detected to prevent training from crashing.\n",
    "            len_row_zero = len(X_reduced_res_transposed_row)\n",
    "\n",
    "        if len(X_reduced_res_transposed_row) == len_row_zero:\n",
    "            X_reduced_res_transposed.append(X_reduced_res_transposed_row)\n",
    "            #events_ref.append(events[c])\n",
    "\n",
    "        c += 1\n",
    "    \n",
    "    return X_reduced_res_transposed"
   ]
  },
  {
   "cell_type": "markdown",
   "id": "5c7bba46",
   "metadata": {},
   "source": [
    "# Combined process"
   ]
  },
  {
   "cell_type": "code",
   "execution_count": 337,
   "id": "55945562",
   "metadata": {},
   "outputs": [],
   "source": [
    "def training(x, y, reduce, dataset_reduction_size=100, independence_test_nor=100, training_valset_size=50, repititions=1, min_number_of_features=10, max_number_of_features = 50):\n",
    "    \n",
    "    x = deleteNaN(x, 2)\n",
    "    if not checkMatchingOfDatasetLength(x,y):\n",
    "        return False\n",
    "    \n",
    "    # Measure time\n",
    "    independence_test_time = 0\n",
    "    ridgeFeatureSelection_time = 0\n",
    "    sfsForwardFeatureSelection_time = 0\n",
    "    geneticAlgorithmFeatureSelection_time = 0\n",
    "    train_time = 0\n",
    "    \n",
    "    # Combined list, that stores average evaluations\n",
    "    evaluations_res = []\n",
    "    evaluations_combined = []\n",
    "    evaluations_res_raw = []\n",
    "    # Store model accuracy\n",
    "    accuracy_res = []\n",
    "    accuracy_combined = []\n",
    "    accuracy_res_raw = []\n",
    "    # Store model loss\n",
    "    loss_res = []\n",
    "    loss_combined = []\n",
    "    loss_res_raw = []\n",
    "    \n",
    "    # Artifact removal\n",
    "    x_raw,y_raw = artifactRemoval(x,y)\n",
    "    \n",
    "    nor = len(x)\n",
    "    noa = len(x[0])\n",
    "    \n",
    "    # Feature Generation\n",
    "    x_raw,y_raw = x_raw,y_raw\n",
    "    \n",
    "    # Split dataset\n",
    "    if reduce:\n",
    "        x_raw,y_raw,independence_test_time_raw = execute_independenceTest(x_raw,y_raw,dataset_reduction_size)\n",
    "        independence_test_time += independence_test_time_raw\n",
    "        \n",
    "\n",
    "        \n",
    "        \n",
    "    print(\"Start evaluation of number of features\")\n",
    "    start = time.time()\n",
    "    fc = min_number_of_features\n",
    "    evaluation_nof = []\n",
    "    nof = []\n",
    "    \n",
    "    while fc <= max_number_of_features + 20:\n",
    "        \n",
    "        try:\n",
    "        \n",
    "            # Shuffle dataset\n",
    "            x_raw,y_raw = shuffle_dataset(x_raw,y_raw)\n",
    "\n",
    "            # Create validation set\n",
    "            x, y, x_val, y_val = createValidationSet(x_raw, y_raw, training_valset_size)\n",
    "\n",
    "            features, features_val = execute_featureSelection_nof(x,y,x_val, fc)\n",
    "\n",
    "            # Evayluate adaBoost Model with given number of features\n",
    "            evaluation_nof.append(execute_modelEvaluation_nof(features, y, features_val, y_val))\n",
    "\n",
    "            nof.append(fc)\n",
    "\n",
    "            fc += 5\n",
    "            \n",
    "        except:\n",
    "            break\n",
    "        \n",
    "        \n",
    "    number_of_features = nof[np.argmax(np.array(evaluation_nof))]\n",
    "        \n",
    "    # Save time for evaluation of number of features\n",
    "    end = time.time()\n",
    "    nof_evaluation_time = end - start\n",
    "        \n",
    "        \n",
    "        \n",
    "        \n",
    "        \n",
    "    \n",
    "    ic = 0\n",
    "    while ic < repititions + 3:\n",
    "        try:\n",
    "            # Shuffle dataset\n",
    "            x,y = shuffle_dataset(x,y)\n",
    "\n",
    "            \"\"\"\n",
    "            # Split dataset to parallelize training\n",
    "            # Artifact removal\n",
    "            # Feature Generation\n",
    "            # Create validation set\n",
    "            # Feature selection\n",
    "            # Feature selection for validation set\n",
    "            # model selection\n",
    "            # model finetuning\n",
    "            \"\"\"\n",
    "\n",
    "            # Create validation set\n",
    "            x, y, x_val, y_val = createValidationSet(x_raw, y_raw, training_valset_size)\n",
    "\n",
    "            # Feature selection\n",
    "            features, features_val, indices_combined, ridgeFeatureSelection_time_raw, sfsForwardFeatureSelection_time_raw, geneticAlgorithmFeatureSelection_time_raw = execute_featureSelection(x,y,x_val,number_of_features)\n",
    "\n",
    "            # Get feature selection time\n",
    "            ridgeFeatureSelection_time += ridgeFeatureSelection_time_raw\n",
    "            sfsForwardFeatureSelection_time += sfsForwardFeatureSelection_time_raw\n",
    "            geneticAlgorithmFeatureSelection_time += geneticAlgorithmFeatureSelection_time_raw\n",
    "\n",
    "            # Model training\n",
    "            models_flat, evaluations, accuracy, loss, train_time_raw, indices_res = execute_modelTraining(features, y, features_val, y_val, indices_combined)\n",
    "            # Get model training time\n",
    "            train_time += train_time_raw\n",
    "\n",
    "\n",
    "\n",
    "            # Fill evaluation metrics....\n",
    "            if ic == 0:\n",
    "                evaluations_res_raw = evaluations\n",
    "                for i in evaluations:\n",
    "                    evaluations_combined.append([i])\n",
    "\n",
    "                accuracy_res_raw = accuracy\n",
    "                for i in accuracy:\n",
    "                    accuracy_combined.append([i])\n",
    "\n",
    "                loss_res_raw = loss\n",
    "                for i in loss:\n",
    "                    loss_combined.append([i])\n",
    "            else:\n",
    "                a = 0\n",
    "                for val in evaluations:\n",
    "                    evaluations_res_raw[a] += val\n",
    "                    evaluations_combined[a].append(val)\n",
    "                    a += 1\n",
    "\n",
    "                a = 0\n",
    "                for val in accuracy:\n",
    "                    accuracy_res_raw[a] += val\n",
    "                    accuracy_combined[a].append(val)\n",
    "                    a += 1\n",
    "\n",
    "                a = 0\n",
    "                for val in loss:\n",
    "                    loss_res_raw[a] += val\n",
    "                    loss_combined[a].append(val)\n",
    "                    a += 1\n",
    "                    \n",
    "            ic += 1\n",
    "        \n",
    "        except:\n",
    "            break\n",
    "                \n",
    "                \n",
    "                \n",
    "        \n",
    "        \n",
    "        \n",
    "    for i in evaluations_res_raw:\n",
    "        evaluations_res.append(i / (ic))\n",
    "        \n",
    "    for i in accuracy_res_raw:\n",
    "        accuracy_res.append(i / (ic))\n",
    "        \n",
    "    for i in loss_res_raw:\n",
    "        loss_res.append(i / (ic))\n",
    "    \n",
    "    predictions_res = evaluations_combined[np.argmax(evaluations_res)]\n",
    "    accuracy_scores_topmodel = accuracy_combined[np.argmax(evaluations_res)]\n",
    "    loss_scores_topmodel = loss_combined[np.argmax(loss_res)]\n",
    "    \n",
    "    # Generate model descriptions\n",
    "    model_descriptions = [\"skb GNB\", \"skb KNN\", \"skb Ada\", \"skb SGD\", \"skb RF\",\n",
    "                         #\"sfs GNB\", \"sfs KNN\", \"sfs Ada\", \"sfs SGD\", \"sfs RF\",\n",
    "                         \"gen GNB\", \"gen KNN\", \"gen Ada\", \"gen SGD\", \"gen RF\"]\n",
    "    model_description = model_descriptions[np.argmax(evaluations_res)]\n",
    "        \n",
    "    # Make Firebase entry\n",
    "    doc.update({\n",
    "        \"number_of_rows\": nor,\n",
    "        \"number_of_attributes\": noa,\n",
    "        \"number_of_rows_after_independence_test\": independence_test_nor,\n",
    "        \"independence_test_time\": independence_test_time,\n",
    "        \"ridge_feature_selection_time\": ridgeFeatureSelection_time,\n",
    "        \"sfs_forward_feature_selection_time\": sfsForwardFeatureSelection_time,\n",
    "        \"genetic_algorithm_feature_selection_time\": geneticAlgorithmFeatureSelection_time,\n",
    "        \"training_time\": train_time,\n",
    "        \"number_of_rows_training_val_set\": independence_test_nor - training_valset_size,\n",
    "        \"model_descriptions\": model_descriptions,\n",
    "        \"evaluations\": evaluations_res,\n",
    "        \"dataset_reduction\": reduce,\n",
    "        \"dataset_reduction_size\": dataset_reduction_size,\n",
    "        \"selected_model\": model_description,\n",
    "        \"prediction_scores\": predictions_res,\n",
    "        \"accuracy_scores\": accuracy_res,\n",
    "        \"accuracy_scores_topmodel\": accuracy_scores_topmodel,\n",
    "        \"loss_scores\": loss_res,\n",
    "        \"loss_scores_topmodel\": loss_scores_topmodel,\n",
    "        \"nof_evaluation_time\": nof_evaluation_time,\n",
    "        \"number_of_features\": number_of_features,\n",
    "        \"number_of_features_evaluation\": evaluation_nof\n",
    "    })\n",
    "    \n",
    "    \n",
    "    return models_flat, evaluations_res, model_descriptions, indices_res"
   ]
  },
  {
   "cell_type": "code",
   "execution_count": 338,
   "id": "e3995f43",
   "metadata": {},
   "outputs": [],
   "source": [
    "def cortex(x, y, reduce=True, validation_set_size = 50, number_of_pred_val_steps=50, repititions=1, min_number_of_features=10, max_number_of_features = 50):\n",
    "    print(\"Entering training\")\n",
    "    models, evaluations, model_descriptions, indices_raw = training(x, y, reduce, repititions=repititions, min_number_of_features=min_number_of_features, training_valset_size = validation_set_size, max_number_of_features=max_number_of_features)\n",
    "        \n",
    "    # delete NaN vals in x\n",
    "    x = deleteNaN(x, 2)\n",
    "    x_raw, y_raw = x,y\n",
    "    \n",
    "    \n",
    "    # shuffle data for training\n",
    "    x_raw,y_raw = shuffle_dataset(x_raw, y_raw)\n",
    "\n",
    "    # Get indices for feature selection\n",
    "    indices = np.array(indices_raw)[np.argmax(evaluations)]\n",
    "    # Feature selection based on train results\n",
    "    features = featureSelectionValidation(x, indices)\n",
    "\n",
    "    # Get top model from training session\n",
    "    if reduce:\n",
    "        model = chooseModelBasedOnTraining(models, evaluations, features, y)\n",
    "    else:\n",
    "        #model = models[np.argmax(evaluations)]\n",
    "        model = chooseModelBasedOnTraining(models, evaluations, features, y)\n",
    "    \n",
    "    \n",
    "    # Reform lists to save them to Firestore DB\n",
    "    indices_res = []\n",
    "    for i in indices:\n",
    "        indices_res.append(float(i))\n",
    "        \n",
    "    \n",
    "    doc.update({\n",
    "        \"end_model_validation_set_size\": validation_set_size,\n",
    "        \"selected_indices\": indices_res,\n",
    "    })\n",
    "    \n",
    "    return(model)"
   ]
  },
  {
   "cell_type": "code",
   "execution_count": 339,
   "id": "52bec149",
   "metadata": {
    "scrolled": true
   },
   "outputs": [
    {
     "name": "stdout",
     "output_type": "stream",
     "text": [
      "Entering training\n",
      "Start evaluation of number of features\n",
      "350 350 50 50  Was ist in createValidationSet los?\n",
      "Start fitting SKB model\n",
      "Finished fitting SKB model\n"
     ]
    },
    {
     "name": "stderr",
     "output_type": "stream",
     "text": [
      "/opt/miniconda3/lib/python3.9/site-packages/sklearn/feature_selection/_univariate_selection.py:114: UserWarning: Features [ 161  162  163  164  165  166  167  168  217  218  219  220  221  222\n",
      "  223  224  225  226  227  228  229  230  231  232  233  234  235  236\n",
      "  237  238  239  240  249  250  251  252  253  254  255  256  417  418\n",
      "  419  420  421  422  423  424  473  474  475  476  477  478  479  480\n",
      "  481  482  483  484  485  486  487  488  489  490  491  492  493  494\n",
      "  495  496  505  506  507  508  509  510  511  512  673  674  675  676\n",
      "  677  678  679  680  729  730  731  732  733  734  735  736  737  738\n",
      "  739  740  741  742  743  744  745  746  747  748  749  750  751  752\n",
      "  761  762  763  764  765  766  767  768  929  930  931  932  933  934\n",
      "  935  936  985  986  987  988  989  990  991  992  993  994  995  996\n",
      "  997  998  999 1000 1001 1002 1003 1004 1005 1006 1007 1008 1017 1018\n",
      " 1019 1020 1021 1022 1023 1024] are constant.\n",
      "  warnings.warn(\"Features %s are constant.\" % constant_features_idx,\n",
      "/opt/miniconda3/lib/python3.9/site-packages/sklearn/feature_selection/_univariate_selection.py:116: RuntimeWarning: invalid value encountered in true_divide\n",
      "  f = msb / msw\n"
     ]
    },
    {
     "name": "stdout",
     "output_type": "stream",
     "text": [
      "350 350 50 50  Was ist in createValidationSet los?\n",
      "Start fitting SKB model\n",
      "Finished fitting SKB model\n"
     ]
    },
    {
     "name": "stderr",
     "output_type": "stream",
     "text": [
      "/opt/miniconda3/lib/python3.9/site-packages/sklearn/feature_selection/_univariate_selection.py:114: UserWarning: Features [ 161  162  163  164  165  166  167  168  217  218  219  220  221  222\n",
      "  223  224  225  226  227  228  229  230  231  232  233  234  235  236\n",
      "  237  238  239  240  249  250  251  252  253  254  255  256  417  418\n",
      "  419  420  421  422  423  424  473  474  475  476  477  478  479  480\n",
      "  481  482  483  484  485  486  487  488  489  490  491  492  493  494\n",
      "  495  496  505  506  507  508  509  510  511  512  673  674  675  676\n",
      "  677  678  679  680  729  730  731  732  733  734  735  736  737  738\n",
      "  739  740  741  742  743  744  745  746  747  748  749  750  751  752\n",
      "  761  762  763  764  765  766  767  768  929  930  931  932  933  934\n",
      "  935  936  985  986  987  988  989  990  991  992  993  994  995  996\n",
      "  997  998  999 1000 1001 1002 1003 1004 1005 1006 1007 1008 1017 1018\n",
      " 1019 1020 1021 1022 1023 1024 1043 1044 1045 1046 1047 1048 1049 1050] are constant.\n",
      "  warnings.warn(\"Features %s are constant.\" % constant_features_idx,\n",
      "/opt/miniconda3/lib/python3.9/site-packages/sklearn/feature_selection/_univariate_selection.py:116: RuntimeWarning: invalid value encountered in true_divide\n",
      "  f = msb / msw\n"
     ]
    },
    {
     "name": "stdout",
     "output_type": "stream",
     "text": [
      "350 350 50 50  Was ist in createValidationSet los?\n",
      "Start fitting SKB model\n",
      "Finished fitting SKB model\n"
     ]
    },
    {
     "name": "stderr",
     "output_type": "stream",
     "text": [
      "/opt/miniconda3/lib/python3.9/site-packages/sklearn/feature_selection/_univariate_selection.py:114: UserWarning: Features [ 161  162  163  164  165  166  167  168  217  218  219  220  221  222\n",
      "  223  224  225  226  227  228  229  230  231  232  233  234  235  236\n",
      "  237  238  239  240  249  250  251  252  253  254  255  256  417  418\n",
      "  419  420  421  422  423  424  473  474  475  476  477  478  479  480\n",
      "  481  482  483  484  485  486  487  488  489  490  491  492  493  494\n",
      "  495  496  505  506  507  508  509  510  511  512  673  674  675  676\n",
      "  677  678  679  680  729  730  731  732  733  734  735  736  737  738\n",
      "  739  740  741  742  743  744  745  746  747  748  749  750  751  752\n",
      "  761  762  763  764  765  766  767  768  929  930  931  932  933  934\n",
      "  935  936  985  986  987  988  989  990  991  992  993  994  995  996\n",
      "  997  998  999 1000 1001 1002 1003 1004 1005 1006 1007 1008 1017 1018\n",
      " 1019 1020 1021 1022 1023 1024] are constant.\n",
      "  warnings.warn(\"Features %s are constant.\" % constant_features_idx,\n",
      "/opt/miniconda3/lib/python3.9/site-packages/sklearn/feature_selection/_univariate_selection.py:116: RuntimeWarning: invalid value encountered in true_divide\n",
      "  f = msb / msw\n"
     ]
    },
    {
     "name": "stdout",
     "output_type": "stream",
     "text": [
      "350 350 50 50  Was ist in createValidationSet los?\n",
      "Start fitting SKB model\n",
      "Finished fitting SKB model\n"
     ]
    },
    {
     "name": "stderr",
     "output_type": "stream",
     "text": [
      "/opt/miniconda3/lib/python3.9/site-packages/sklearn/feature_selection/_univariate_selection.py:114: UserWarning: Features [ 161  162  163  164  165  166  167  168  217  218  219  220  221  222\n",
      "  223  224  225  226  227  228  229  230  231  232  233  234  235  236\n",
      "  237  238  239  240  249  250  251  252  253  254  255  256  417  418\n",
      "  419  420  421  422  423  424  473  474  475  476  477  478  479  480\n",
      "  481  482  483  484  485  486  487  488  489  490  491  492  493  494\n",
      "  495  496  505  506  507  508  509  510  511  512  673  674  675  676\n",
      "  677  678  679  680  729  730  731  732  733  734  735  736  737  738\n",
      "  739  740  741  742  743  744  745  746  747  748  749  750  751  752\n",
      "  761  762  763  764  765  766  767  768  929  930  931  932  933  934\n",
      "  935  936  985  986  987  988  989  990  991  992  993  994  995  996\n",
      "  997  998  999 1000 1001 1002 1003 1004 1005 1006 1007 1008 1017 1018\n",
      " 1019 1020 1021 1022 1023 1024] are constant.\n",
      "  warnings.warn(\"Features %s are constant.\" % constant_features_idx,\n",
      "/opt/miniconda3/lib/python3.9/site-packages/sklearn/feature_selection/_univariate_selection.py:116: RuntimeWarning: invalid value encountered in true_divide\n",
      "  f = msb / msw\n"
     ]
    },
    {
     "name": "stdout",
     "output_type": "stream",
     "text": [
      "350 350 50 50  Was ist in createValidationSet los?\n",
      "Start fitting SKB model\n",
      "Finished fitting SKB model\n"
     ]
    },
    {
     "name": "stderr",
     "output_type": "stream",
     "text": [
      "/opt/miniconda3/lib/python3.9/site-packages/sklearn/feature_selection/_univariate_selection.py:114: UserWarning: Features [ 161  162  163  164  165  166  167  168  217  218  219  220  221  222\n",
      "  223  224  225  226  227  228  229  230  231  232  233  234  235  236\n",
      "  237  238  239  240  249  250  251  252  253  254  255  256  417  418\n",
      "  419  420  421  422  423  424  473  474  475  476  477  478  479  480\n",
      "  481  482  483  484  485  486  487  488  489  490  491  492  493  494\n",
      "  495  496  505  506  507  508  509  510  511  512  673  674  675  676\n",
      "  677  678  679  680  729  730  731  732  733  734  735  736  737  738\n",
      "  739  740  741  742  743  744  745  746  747  748  749  750  751  752\n",
      "  761  762  763  764  765  766  767  768  929  930  931  932  933  934\n",
      "  935  936  985  986  987  988  989  990  991  992  993  994  995  996\n",
      "  997  998  999 1000 1001 1002 1003 1004 1005 1006 1007 1008 1017 1018\n",
      " 1019 1020 1021 1022 1023 1024] are constant.\n",
      "  warnings.warn(\"Features %s are constant.\" % constant_features_idx,\n",
      "/opt/miniconda3/lib/python3.9/site-packages/sklearn/feature_selection/_univariate_selection.py:116: RuntimeWarning: invalid value encountered in true_divide\n",
      "  f = msb / msw\n"
     ]
    },
    {
     "name": "stdout",
     "output_type": "stream",
     "text": [
      "350 350 50 50  Was ist in createValidationSet los?\n",
      "Start fitting SKB model\n",
      "Finished fitting SKB model\n"
     ]
    },
    {
     "name": "stderr",
     "output_type": "stream",
     "text": [
      "/opt/miniconda3/lib/python3.9/site-packages/sklearn/feature_selection/_univariate_selection.py:114: UserWarning: Features [ 161  162  163  164  165  166  167  168  217  218  219  220  221  222\n",
      "  223  224  225  226  227  228  229  230  231  232  233  234  235  236\n",
      "  237  238  239  240  249  250  251  252  253  254  255  256  417  418\n",
      "  419  420  421  422  423  424  473  474  475  476  477  478  479  480\n",
      "  481  482  483  484  485  486  487  488  489  490  491  492  493  494\n",
      "  495  496  505  506  507  508  509  510  511  512  673  674  675  676\n",
      "  677  678  679  680  729  730  731  732  733  734  735  736  737  738\n",
      "  739  740  741  742  743  744  745  746  747  748  749  750  751  752\n",
      "  761  762  763  764  765  766  767  768  929  930  931  932  933  934\n",
      "  935  936  985  986  987  988  989  990  991  992  993  994  995  996\n",
      "  997  998  999 1000 1001 1002 1003 1004 1005 1006 1007 1008 1017 1018\n",
      " 1019 1020 1021 1022 1023 1024] are constant.\n",
      "  warnings.warn(\"Features %s are constant.\" % constant_features_idx,\n",
      "/opt/miniconda3/lib/python3.9/site-packages/sklearn/feature_selection/_univariate_selection.py:116: RuntimeWarning: invalid value encountered in true_divide\n",
      "  f = msb / msw\n"
     ]
    },
    {
     "name": "stdout",
     "output_type": "stream",
     "text": [
      "350 350 50 50  Was ist in createValidationSet los?\n",
      "Start fitting SKB model\n",
      "Finished fitting SKB model\n"
     ]
    },
    {
     "name": "stderr",
     "output_type": "stream",
     "text": [
      "/opt/miniconda3/lib/python3.9/site-packages/sklearn/feature_selection/_univariate_selection.py:114: UserWarning: Features [ 161  162  163  164  165  166  167  168  217  218  219  220  221  222\n",
      "  223  224  225  226  227  228  229  230  231  232  233  234  235  236\n",
      "  237  238  239  240  249  250  251  252  253  254  255  256  417  418\n",
      "  419  420  421  422  423  424  473  474  475  476  477  478  479  480\n",
      "  481  482  483  484  485  486  487  488  489  490  491  492  493  494\n",
      "  495  496  505  506  507  508  509  510  511  512  673  674  675  676\n",
      "  677  678  679  680  729  730  731  732  733  734  735  736  737  738\n",
      "  739  740  741  742  743  744  745  746  747  748  749  750  751  752\n",
      "  761  762  763  764  765  766  767  768  929  930  931  932  933  934\n",
      "  935  936  985  986  987  988  989  990  991  992  993  994  995  996\n",
      "  997  998  999 1000 1001 1002 1003 1004 1005 1006 1007 1008 1017 1018\n",
      " 1019 1020 1021 1022 1023 1024] are constant.\n",
      "  warnings.warn(\"Features %s are constant.\" % constant_features_idx,\n",
      "/opt/miniconda3/lib/python3.9/site-packages/sklearn/feature_selection/_univariate_selection.py:116: RuntimeWarning: invalid value encountered in true_divide\n",
      "  f = msb / msw\n"
     ]
    },
    {
     "name": "stdout",
     "output_type": "stream",
     "text": [
      "350 350 50 50  Was ist in createValidationSet los?\n",
      "Start fitting SKB model\n",
      "Finished fitting SKB model\n"
     ]
    },
    {
     "name": "stderr",
     "output_type": "stream",
     "text": [
      "/opt/miniconda3/lib/python3.9/site-packages/sklearn/feature_selection/_univariate_selection.py:114: UserWarning: Features [ 161  162  163  164  165  166  167  168  217  218  219  220  221  222\n",
      "  223  224  225  226  227  228  229  230  231  232  233  234  235  236\n",
      "  237  238  239  240  249  250  251  252  253  254  255  256  417  418\n",
      "  419  420  421  422  423  424  473  474  475  476  477  478  479  480\n",
      "  481  482  483  484  485  486  487  488  489  490  491  492  493  494\n",
      "  495  496  505  506  507  508  509  510  511  512  673  674  675  676\n",
      "  677  678  679  680  729  730  731  732  733  734  735  736  737  738\n",
      "  739  740  741  742  743  744  745  746  747  748  749  750  751  752\n",
      "  761  762  763  764  765  766  767  768  929  930  931  932  933  934\n",
      "  935  936  985  986  987  988  989  990  991  992  993  994  995  996\n",
      "  997  998  999 1000 1001 1002 1003 1004 1005 1006 1007 1008 1017 1018\n",
      " 1019 1020 1021 1022 1023 1024] are constant.\n",
      "  warnings.warn(\"Features %s are constant.\" % constant_features_idx,\n",
      "/opt/miniconda3/lib/python3.9/site-packages/sklearn/feature_selection/_univariate_selection.py:116: RuntimeWarning: invalid value encountered in true_divide\n",
      "  f = msb / msw\n"
     ]
    },
    {
     "name": "stdout",
     "output_type": "stream",
     "text": [
      "350 350 50 50  Was ist in createValidationSet los?\n",
      "Start fitting SKB model\n",
      "Finished fitting SKB model\n"
     ]
    },
    {
     "name": "stderr",
     "output_type": "stream",
     "text": [
      "/opt/miniconda3/lib/python3.9/site-packages/sklearn/feature_selection/_univariate_selection.py:114: UserWarning: Features [ 161  162  163  164  165  166  167  168  217  218  219  220  221  222\n",
      "  223  224  225  226  227  228  229  230  231  232  233  234  235  236\n",
      "  237  238  239  240  249  250  251  252  253  254  255  256  417  418\n",
      "  419  420  421  422  423  424  473  474  475  476  477  478  479  480\n",
      "  481  482  483  484  485  486  487  488  489  490  491  492  493  494\n",
      "  495  496  505  506  507  508  509  510  511  512  673  674  675  676\n",
      "  677  678  679  680  729  730  731  732  733  734  735  736  737  738\n",
      "  739  740  741  742  743  744  745  746  747  748  749  750  751  752\n",
      "  761  762  763  764  765  766  767  768  929  930  931  932  933  934\n",
      "  935  936  985  986  987  988  989  990  991  992  993  994  995  996\n",
      "  997  998  999 1000 1001 1002 1003 1004 1005 1006 1007 1008 1017 1018\n",
      " 1019 1020 1021 1022 1023 1024] are constant.\n",
      "  warnings.warn(\"Features %s are constant.\" % constant_features_idx,\n",
      "/opt/miniconda3/lib/python3.9/site-packages/sklearn/feature_selection/_univariate_selection.py:116: RuntimeWarning: invalid value encountered in true_divide\n",
      "  f = msb / msw\n"
     ]
    },
    {
     "name": "stdout",
     "output_type": "stream",
     "text": [
      "350 350 50 50  Was ist in createValidationSet los?\n",
      "Start fitting SKB model\n",
      "Finished fitting SKB model\n"
     ]
    },
    {
     "name": "stderr",
     "output_type": "stream",
     "text": [
      "/opt/miniconda3/lib/python3.9/site-packages/sklearn/feature_selection/_univariate_selection.py:114: UserWarning: Features [ 161  162  163  164  165  166  167  168  217  218  219  220  221  222\n",
      "  223  224  225  226  227  228  229  230  231  232  233  234  235  236\n",
      "  237  238  239  240  249  250  251  252  253  254  255  256  417  418\n",
      "  419  420  421  422  423  424  473  474  475  476  477  478  479  480\n",
      "  481  482  483  484  485  486  487  488  489  490  491  492  493  494\n",
      "  495  496  505  506  507  508  509  510  511  512  673  674  675  676\n",
      "  677  678  679  680  729  730  731  732  733  734  735  736  737  738\n",
      "  739  740  741  742  743  744  745  746  747  748  749  750  751  752\n",
      "  761  762  763  764  765  766  767  768  929  930  931  932  933  934\n",
      "  935  936  985  986  987  988  989  990  991  992  993  994  995  996\n",
      "  997  998  999 1000 1001 1002 1003 1004 1005 1006 1007 1008 1017 1018\n",
      " 1019 1020 1021 1022 1023 1024] are constant.\n",
      "  warnings.warn(\"Features %s are constant.\" % constant_features_idx,\n",
      "/opt/miniconda3/lib/python3.9/site-packages/sklearn/feature_selection/_univariate_selection.py:116: RuntimeWarning: invalid value encountered in true_divide\n",
      "  f = msb / msw\n"
     ]
    },
    {
     "name": "stdout",
     "output_type": "stream",
     "text": [
      "350 350 50 50  Was ist in createValidationSet los?\n",
      "Start fitting SKB model\n",
      "Finished fitting SKB model\n"
     ]
    },
    {
     "name": "stderr",
     "output_type": "stream",
     "text": [
      "/opt/miniconda3/lib/python3.9/site-packages/sklearn/feature_selection/_univariate_selection.py:114: UserWarning: Features [ 161  162  163  164  165  166  167  168  217  218  219  220  221  222\n",
      "  223  224  225  226  227  228  229  230  231  232  233  234  235  236\n",
      "  237  238  239  240  249  250  251  252  253  254  255  256  417  418\n",
      "  419  420  421  422  423  424  473  474  475  476  477  478  479  480\n",
      "  481  482  483  484  485  486  487  488  489  490  491  492  493  494\n",
      "  495  496  505  506  507  508  509  510  511  512  673  674  675  676\n",
      "  677  678  679  680  729  730  731  732  733  734  735  736  737  738\n",
      "  739  740  741  742  743  744  745  746  747  748  749  750  751  752\n",
      "  761  762  763  764  765  766  767  768  929  930  931  932  933  934\n",
      "  935  936  985  986  987  988  989  990  991  992  993  994  995  996\n",
      "  997  998  999 1000 1001 1002 1003 1004 1005 1006 1007 1008 1017 1018\n",
      " 1019 1020 1021 1022 1023 1024] are constant.\n",
      "  warnings.warn(\"Features %s are constant.\" % constant_features_idx,\n",
      "/opt/miniconda3/lib/python3.9/site-packages/sklearn/feature_selection/_univariate_selection.py:116: RuntimeWarning: invalid value encountered in true_divide\n",
      "  f = msb / msw\n"
     ]
    },
    {
     "name": "stdout",
     "output_type": "stream",
     "text": [
      "350 350 50 50  Was ist in createValidationSet los?\n",
      "Start fitting SKB model\n",
      "Finished fitting SKB model\n"
     ]
    },
    {
     "name": "stderr",
     "output_type": "stream",
     "text": [
      "/opt/miniconda3/lib/python3.9/site-packages/sklearn/feature_selection/_univariate_selection.py:114: UserWarning: Features [ 161  162  163  164  165  166  167  168  217  218  219  220  221  222\n",
      "  223  224  225  226  227  228  229  230  231  232  233  234  235  236\n",
      "  237  238  239  240  249  250  251  252  253  254  255  256  417  418\n",
      "  419  420  421  422  423  424  473  474  475  476  477  478  479  480\n",
      "  481  482  483  484  485  486  487  488  489  490  491  492  493  494\n",
      "  495  496  505  506  507  508  509  510  511  512  673  674  675  676\n",
      "  677  678  679  680  729  730  731  732  733  734  735  736  737  738\n",
      "  739  740  741  742  743  744  745  746  747  748  749  750  751  752\n",
      "  761  762  763  764  765  766  767  768  929  930  931  932  933  934\n",
      "  935  936  985  986  987  988  989  990  991  992  993  994  995  996\n",
      "  997  998  999 1000 1001 1002 1003 1004 1005 1006 1007 1008 1017 1018\n",
      " 1019 1020 1021 1022 1023 1024] are constant.\n",
      "  warnings.warn(\"Features %s are constant.\" % constant_features_idx,\n",
      "/opt/miniconda3/lib/python3.9/site-packages/sklearn/feature_selection/_univariate_selection.py:116: RuntimeWarning: invalid value encountered in true_divide\n",
      "  f = msb / msw\n"
     ]
    },
    {
     "name": "stdout",
     "output_type": "stream",
     "text": [
      "350 350 50 50  Was ist in createValidationSet los?\n",
      "Start fitting SKB model\n",
      "Finished fitting SKB model\n"
     ]
    },
    {
     "name": "stderr",
     "output_type": "stream",
     "text": [
      "/opt/miniconda3/lib/python3.9/site-packages/sklearn/feature_selection/_univariate_selection.py:114: UserWarning: Features [ 161  162  163  164  165  166  167  168  217  218  219  220  221  222\n",
      "  223  224  225  226  227  228  229  230  231  232  233  234  235  236\n",
      "  237  238  239  240  249  250  251  252  253  254  255  256  417  418\n",
      "  419  420  421  422  423  424  473  474  475  476  477  478  479  480\n",
      "  481  482  483  484  485  486  487  488  489  490  491  492  493  494\n",
      "  495  496  505  506  507  508  509  510  511  512  673  674  675  676\n",
      "  677  678  679  680  729  730  731  732  733  734  735  736  737  738\n",
      "  739  740  741  742  743  744  745  746  747  748  749  750  751  752\n",
      "  761  762  763  764  765  766  767  768  929  930  931  932  933  934\n",
      "  935  936  985  986  987  988  989  990  991  992  993  994  995  996\n",
      "  997  998  999 1000 1001 1002 1003 1004 1005 1006 1007 1008 1017 1018\n",
      " 1019 1020 1021 1022 1023 1024] are constant.\n",
      "  warnings.warn(\"Features %s are constant.\" % constant_features_idx,\n",
      "/opt/miniconda3/lib/python3.9/site-packages/sklearn/feature_selection/_univariate_selection.py:116: RuntimeWarning: invalid value encountered in true_divide\n",
      "  f = msb / msw\n"
     ]
    },
    {
     "name": "stdout",
     "output_type": "stream",
     "text": [
      "350 350 50 50  Was ist in createValidationSet los?\n",
      "Start fitting SKB model\n",
      "Finished fitting SKB model\n"
     ]
    },
    {
     "name": "stderr",
     "output_type": "stream",
     "text": [
      "/opt/miniconda3/lib/python3.9/site-packages/sklearn/feature_selection/_univariate_selection.py:114: UserWarning: Features [ 161  162  163  164  165  166  167  168  217  218  219  220  221  222\n",
      "  223  224  225  226  227  228  229  230  231  232  233  234  235  236\n",
      "  237  238  239  240  249  250  251  252  253  254  255  256  417  418\n",
      "  419  420  421  422  423  424  473  474  475  476  477  478  479  480\n",
      "  481  482  483  484  485  486  487  488  489  490  491  492  493  494\n",
      "  495  496  505  506  507  508  509  510  511  512  673  674  675  676\n",
      "  677  678  679  680  729  730  731  732  733  734  735  736  737  738\n",
      "  739  740  741  742  743  744  745  746  747  748  749  750  751  752\n",
      "  761  762  763  764  765  766  767  768  929  930  931  932  933  934\n",
      "  935  936  985  986  987  988  989  990  991  992  993  994  995  996\n",
      "  997  998  999 1000 1001 1002 1003 1004 1005 1006 1007 1008 1017 1018\n",
      " 1019 1020 1021 1022 1023 1024] are constant.\n",
      "  warnings.warn(\"Features %s are constant.\" % constant_features_idx,\n",
      "/opt/miniconda3/lib/python3.9/site-packages/sklearn/feature_selection/_univariate_selection.py:116: RuntimeWarning: invalid value encountered in true_divide\n",
      "  f = msb / msw\n"
     ]
    },
    {
     "name": "stdout",
     "output_type": "stream",
     "text": [
      "350 350 50 50  Was ist in createValidationSet los?\n",
      "Feature selection: skbFeatureSelection\n",
      "Start fitting SKB model\n",
      "Finished fitting SKB model\n"
     ]
    },
    {
     "name": "stderr",
     "output_type": "stream",
     "text": [
      "/opt/miniconda3/lib/python3.9/site-packages/sklearn/feature_selection/_univariate_selection.py:114: UserWarning: Features [ 161  162  163  164  165  166  167  168  217  218  219  220  221  222\n",
      "  223  224  225  226  227  228  229  230  231  232  233  234  235  236\n",
      "  237  238  239  240  249  250  251  252  253  254  255  256  417  418\n",
      "  419  420  421  422  423  424  473  474  475  476  477  478  479  480\n",
      "  481  482  483  484  485  486  487  488  489  490  491  492  493  494\n",
      "  495  496  505  506  507  508  509  510  511  512  673  674  675  676\n",
      "  677  678  679  680  729  730  731  732  733  734  735  736  737  738\n",
      "  739  740  741  742  743  744  745  746  747  748  749  750  751  752\n",
      "  761  762  763  764  765  766  767  768  929  930  931  932  933  934\n",
      "  935  936  985  986  987  988  989  990  991  992  993  994  995  996\n",
      "  997  998  999 1000 1001 1002 1003 1004 1005 1006 1007 1008 1017 1018\n",
      " 1019 1020 1021 1022 1023 1024] are constant.\n",
      "  warnings.warn(\"Features %s are constant.\" % constant_features_idx,\n",
      "/opt/miniconda3/lib/python3.9/site-packages/sklearn/feature_selection/_univariate_selection.py:116: RuntimeWarning: invalid value encountered in true_divide\n",
      "  f = msb / msw\n"
     ]
    },
    {
     "name": "stdout",
     "output_type": "stream",
     "text": [
      "Feature selection: sfsForwardFeatureSelection\n",
      "Feature selection: Genetic algorithm\n",
      "Train models\n"
     ]
    },
    {
     "name": "stderr",
     "output_type": "stream",
     "text": [
      "/opt/miniconda3/lib/python3.9/site-packages/sklearn/linear_model/_stochastic_gradient.py:574: ConvergenceWarning: Maximum number of iteration reached before convergence. Consider increasing max_iter to improve the fit.\n",
      "  warnings.warn(\"Maximum number of iteration reached before \"\n",
      "/opt/miniconda3/lib/python3.9/site-packages/sklearn/linear_model/_stochastic_gradient.py:574: ConvergenceWarning: Maximum number of iteration reached before convergence. Consider increasing max_iter to improve the fit.\n",
      "  warnings.warn(\"Maximum number of iteration reached before \"\n"
     ]
    },
    {
     "name": "stdout",
     "output_type": "stream",
     "text": [
      "Make predictions\n",
      "50 50\n",
      "loss 254.26507160840134\n",
      "accuracy 0.6\n",
      "loss 103.51964914535202\n",
      "accuracy 0.94\n",
      "loss 72.11636696637049\n",
      "accuracy 1.0\n",
      "loss 1089.321673459046\n",
      "accuracy 0.46\n",
      "loss 106.65514336128118\n",
      "accuracy 0.96\n",
      "loss 514.849471668351\n",
      "accuracy 0.44\n",
      "loss 408.0976482676898\n",
      "accuracy 0.54\n",
      "loss 715.7628015862668\n",
      "accuracy 0.42\n",
      "loss 1089.321673459046\n",
      "accuracy 0.46\n",
      "loss 684.3595194072853\n",
      "accuracy 0.48\n",
      "350 350 50 50  Was ist in createValidationSet los?\n",
      "Feature selection: skbFeatureSelection\n",
      "Start fitting SKB model\n",
      "Finished fitting SKB model\n"
     ]
    },
    {
     "name": "stderr",
     "output_type": "stream",
     "text": [
      "/opt/miniconda3/lib/python3.9/site-packages/numpy/lib/function_base.py:2691: RuntimeWarning: invalid value encountered in true_divide\n",
      "  c /= stddev[:, None]\n",
      "/opt/miniconda3/lib/python3.9/site-packages/numpy/lib/function_base.py:2692: RuntimeWarning: invalid value encountered in true_divide\n",
      "  c /= stddev[None, :]\n",
      "/opt/miniconda3/lib/python3.9/site-packages/numpy/lib/function_base.py:2691: RuntimeWarning: invalid value encountered in true_divide\n",
      "  c /= stddev[:, None]\n",
      "/opt/miniconda3/lib/python3.9/site-packages/numpy/lib/function_base.py:2692: RuntimeWarning: invalid value encountered in true_divide\n",
      "  c /= stddev[None, :]\n",
      "/opt/miniconda3/lib/python3.9/site-packages/sklearn/feature_selection/_univariate_selection.py:114: UserWarning: Features [ 161  162  163  164  165  166  167  168  217  218  219  220  221  222\n",
      "  223  224  225  226  227  228  229  230  231  232  233  234  235  236\n",
      "  237  238  239  240  249  250  251  252  253  254  255  256  417  418\n",
      "  419  420  421  422  423  424  473  474  475  476  477  478  479  480\n",
      "  481  482  483  484  485  486  487  488  489  490  491  492  493  494\n",
      "  495  496  505  506  507  508  509  510  511  512  673  674  675  676\n",
      "  677  678  679  680  729  730  731  732  733  734  735  736  737  738\n",
      "  739  740  741  742  743  744  745  746  747  748  749  750  751  752\n",
      "  761  762  763  764  765  766  767  768  929  930  931  932  933  934\n",
      "  935  936  985  986  987  988  989  990  991  992  993  994  995  996\n",
      "  997  998  999 1000 1001 1002 1003 1004 1005 1006 1007 1008 1017 1018\n",
      " 1019 1020 1021 1022 1023 1024] are constant.\n",
      "  warnings.warn(\"Features %s are constant.\" % constant_features_idx,\n",
      "/opt/miniconda3/lib/python3.9/site-packages/sklearn/feature_selection/_univariate_selection.py:116: RuntimeWarning: invalid value encountered in true_divide\n",
      "  f = msb / msw\n"
     ]
    },
    {
     "name": "stdout",
     "output_type": "stream",
     "text": [
      "Feature selection: sfsForwardFeatureSelection\n",
      "Feature selection: Genetic algorithm\n",
      "Train models\n"
     ]
    },
    {
     "name": "stderr",
     "output_type": "stream",
     "text": [
      "/opt/miniconda3/lib/python3.9/site-packages/sklearn/linear_model/_stochastic_gradient.py:574: ConvergenceWarning: Maximum number of iteration reached before convergence. Consider increasing max_iter to improve the fit.\n",
      "  warnings.warn(\"Maximum number of iteration reached before \"\n",
      "/opt/miniconda3/lib/python3.9/site-packages/sklearn/linear_model/_stochastic_gradient.py:574: ConvergenceWarning: Maximum number of iteration reached before convergence. Consider increasing max_iter to improve the fit.\n",
      "  warnings.warn(\"Maximum number of iteration reached before \"\n"
     ]
    },
    {
     "name": "stdout",
     "output_type": "stream",
     "text": [
      "Make predictions\n",
      "50 50\n",
      "loss 254.26507160840134\n",
      "accuracy 0.6\n",
      "loss 103.51964914535202\n",
      "accuracy 0.94\n",
      "loss 72.11636696637049\n",
      "accuracy 1.0\n",
      "loss 113.0228118325195\n",
      "accuracy 0.48\n",
      "loss 106.65514336128118\n",
      "accuracy 0.96\n",
      "loss 725.1692842340542\n",
      "accuracy 0.48\n",
      "loss 439.5009304466713\n",
      "accuracy 0.48\n",
      "loss 530.5269427479968\n",
      "accuracy 0.54\n",
      "loss 40.80976482676898\n",
      "accuracy 0.54\n",
      "loss 759.7080606289651\n",
      "accuracy 0.44\n",
      "350 350 50 50  Was ist in createValidationSet los?\n",
      "Feature selection: skbFeatureSelection\n",
      "Start fitting SKB model\n",
      "Finished fitting SKB model\n"
     ]
    },
    {
     "name": "stderr",
     "output_type": "stream",
     "text": [
      "/opt/miniconda3/lib/python3.9/site-packages/sklearn/feature_selection/_univariate_selection.py:114: UserWarning: Features [ 161  162  163  164  165  166  167  168  217  218  219  220  221  222\n",
      "  223  224  225  226  227  228  229  230  231  232  233  234  235  236\n",
      "  237  238  239  240  249  250  251  252  253  254  255  256  417  418\n",
      "  419  420  421  422  423  424  473  474  475  476  477  478  479  480\n",
      "  481  482  483  484  485  486  487  488  489  490  491  492  493  494\n",
      "  495  496  505  506  507  508  509  510  511  512  673  674  675  676\n",
      "  677  678  679  680  729  730  731  732  733  734  735  736  737  738\n",
      "  739  740  741  742  743  744  745  746  747  748  749  750  751  752\n",
      "  761  762  763  764  765  766  767  768  929  930  931  932  933  934\n",
      "  935  936  985  986  987  988  989  990  991  992  993  994  995  996\n",
      "  997  998  999 1000 1001 1002 1003 1004 1005 1006 1007 1008 1017 1018\n",
      " 1019 1020 1021 1022 1023 1024] are constant.\n",
      "  warnings.warn(\"Features %s are constant.\" % constant_features_idx,\n",
      "/opt/miniconda3/lib/python3.9/site-packages/sklearn/feature_selection/_univariate_selection.py:116: RuntimeWarning: invalid value encountered in true_divide\n",
      "  f = msb / msw\n"
     ]
    },
    {
     "name": "stdout",
     "output_type": "stream",
     "text": [
      "Feature selection: sfsForwardFeatureSelection\n",
      "Feature selection: Genetic algorithm\n",
      "Train models\n"
     ]
    },
    {
     "name": "stderr",
     "output_type": "stream",
     "text": [
      "/opt/miniconda3/lib/python3.9/site-packages/sklearn/linear_model/_stochastic_gradient.py:574: ConvergenceWarning: Maximum number of iteration reached before convergence. Consider increasing max_iter to improve the fit.\n",
      "  warnings.warn(\"Maximum number of iteration reached before \"\n"
     ]
    },
    {
     "name": "stdout",
     "output_type": "stream",
     "text": [
      "Make predictions\n",
      "50 50\n",
      "loss 254.26507160840134\n",
      "accuracy 0.6\n",
      "loss 103.51964914535202\n",
      "accuracy 0.94\n",
      "loss 72.11636696637049\n",
      "accuracy 1.0\n",
      "loss 113.0228118325195\n",
      "accuracy 0.48\n",
      "loss 106.65514336128118\n",
      "accuracy 0.96\n",
      "loss 175.73269615110252\n",
      "accuracy 0.88\n",
      "loss 138.0584255402627\n",
      "accuracy 0.9\n",
      "loss 72.11636696637049\n",
      "accuracy 1.0\n",
      "loss 367.28788344092084\n",
      "accuracy 0.54\n",
      "loss 72.11636696637049\n",
      "accuracy 1.0\n",
      "350 350 50 50  Was ist in createValidationSet los?\n",
      "Feature selection: skbFeatureSelection\n",
      "Start fitting SKB model\n",
      "Finished fitting SKB model\n"
     ]
    },
    {
     "name": "stderr",
     "output_type": "stream",
     "text": [
      "/opt/miniconda3/lib/python3.9/site-packages/sklearn/feature_selection/_univariate_selection.py:114: UserWarning: Features [ 161  162  163  164  165  166  167  168  217  218  219  220  221  222\n",
      "  223  224  225  226  227  228  229  230  231  232  233  234  235  236\n",
      "  237  238  239  240  249  250  251  252  253  254  255  256  417  418\n",
      "  419  420  421  422  423  424  473  474  475  476  477  478  479  480\n",
      "  481  482  483  484  485  486  487  488  489  490  491  492  493  494\n",
      "  495  496  505  506  507  508  509  510  511  512  673  674  675  676\n",
      "  677  678  679  680  729  730  731  732  733  734  735  736  737  738\n",
      "  739  740  741  742  743  744  745  746  747  748  749  750  751  752\n",
      "  761  762  763  764  765  766  767  768  929  930  931  932  933  934\n",
      "  935  936  985  986  987  988  989  990  991  992  993  994  995  996\n",
      "  997  998  999 1000 1001 1002 1003 1004 1005 1006 1007 1008 1017 1018\n",
      " 1019 1020 1021 1022 1023 1024] are constant.\n",
      "  warnings.warn(\"Features %s are constant.\" % constant_features_idx,\n",
      "/opt/miniconda3/lib/python3.9/site-packages/sklearn/feature_selection/_univariate_selection.py:116: RuntimeWarning: invalid value encountered in true_divide\n",
      "  f = msb / msw\n"
     ]
    },
    {
     "name": "stdout",
     "output_type": "stream",
     "text": [
      "Feature selection: sfsForwardFeatureSelection\n",
      "Feature selection: Genetic algorithm\n",
      "Train models\n"
     ]
    },
    {
     "name": "stderr",
     "output_type": "stream",
     "text": [
      "/opt/miniconda3/lib/python3.9/site-packages/sklearn/linear_model/_stochastic_gradient.py:574: ConvergenceWarning: Maximum number of iteration reached before convergence. Consider increasing max_iter to improve the fit.\n",
      "  warnings.warn(\"Maximum number of iteration reached before \"\n",
      "/opt/miniconda3/lib/python3.9/site-packages/sklearn/linear_model/_stochastic_gradient.py:574: ConvergenceWarning: Maximum number of iteration reached before convergence. Consider increasing max_iter to improve the fit.\n",
      "  warnings.warn(\"Maximum number of iteration reached before \"\n"
     ]
    },
    {
     "name": "stdout",
     "output_type": "stream",
     "text": [
      "Make predictions\n",
      "50 50\n",
      "loss 254.26507160840134\n",
      "accuracy 0.6\n",
      "loss 103.51964914535202\n",
      "accuracy 0.94\n",
      "loss 72.11636696637049\n",
      "accuracy 1.0\n",
      "loss 37.674270610839834\n",
      "accuracy 0.52\n",
      "loss 106.65514336128118\n",
      "accuracy 0.96\n",
      "loss 103.51964914535202\n",
      "accuracy 0.94\n",
      "loss 72.11636696637049\n",
      "accuracy 1.0\n",
      "loss 72.11636696637049\n",
      "accuracy 1.0\n",
      "loss 1089.321673459046\n",
      "accuracy 0.46\n",
      "loss 72.11636696637049\n",
      "accuracy 1.0\n",
      "350 350 50 50  Was ist in createValidationSet los?\n",
      "Feature selection: skbFeatureSelection\n",
      "Start fitting SKB model\n",
      "Finished fitting SKB model\n"
     ]
    },
    {
     "name": "stderr",
     "output_type": "stream",
     "text": [
      "/opt/miniconda3/lib/python3.9/site-packages/numpy/lib/function_base.py:2691: RuntimeWarning: invalid value encountered in true_divide\n",
      "  c /= stddev[:, None]\n",
      "/opt/miniconda3/lib/python3.9/site-packages/numpy/lib/function_base.py:2692: RuntimeWarning: invalid value encountered in true_divide\n",
      "  c /= stddev[None, :]\n",
      "/opt/miniconda3/lib/python3.9/site-packages/sklearn/feature_selection/_univariate_selection.py:114: UserWarning: Features [ 161  162  163  164  165  166  167  168  217  218  219  220  221  222\n",
      "  223  224  225  226  227  228  229  230  231  232  233  234  235  236\n",
      "  237  238  239  240  249  250  251  252  253  254  255  256  417  418\n",
      "  419  420  421  422  423  424  473  474  475  476  477  478  479  480\n",
      "  481  482  483  484  485  486  487  488  489  490  491  492  493  494\n",
      "  495  496  505  506  507  508  509  510  511  512  673  674  675  676\n",
      "  677  678  679  680  729  730  731  732  733  734  735  736  737  738\n",
      "  739  740  741  742  743  744  745  746  747  748  749  750  751  752\n",
      "  761  762  763  764  765  766  767  768  929  930  931  932  933  934\n",
      "  935  936  985  986  987  988  989  990  991  992  993  994  995  996\n",
      "  997  998  999 1000 1001 1002 1003 1004 1005 1006 1007 1008 1017 1018\n",
      " 1019 1020 1021 1022 1023 1024] are constant.\n",
      "  warnings.warn(\"Features %s are constant.\" % constant_features_idx,\n",
      "/opt/miniconda3/lib/python3.9/site-packages/sklearn/feature_selection/_univariate_selection.py:116: RuntimeWarning: invalid value encountered in true_divide\n",
      "  f = msb / msw\n"
     ]
    },
    {
     "name": "stdout",
     "output_type": "stream",
     "text": [
      "Feature selection: sfsForwardFeatureSelection\n",
      "Feature selection: Genetic algorithm\n",
      "Train models\n"
     ]
    },
    {
     "name": "stderr",
     "output_type": "stream",
     "text": [
      "/opt/miniconda3/lib/python3.9/site-packages/sklearn/linear_model/_stochastic_gradient.py:574: ConvergenceWarning: Maximum number of iteration reached before convergence. Consider increasing max_iter to improve the fit.\n",
      "  warnings.warn(\"Maximum number of iteration reached before \"\n",
      "/opt/miniconda3/lib/python3.9/site-packages/sklearn/linear_model/_stochastic_gradient.py:574: ConvergenceWarning: Maximum number of iteration reached before convergence. Consider increasing max_iter to improve the fit.\n",
      "  warnings.warn(\"Maximum number of iteration reached before \"\n"
     ]
    },
    {
     "name": "stdout",
     "output_type": "stream",
     "text": [
      "Make predictions\n",
      "50 50\n",
      "loss 254.26507160840134\n",
      "accuracy 0.6\n",
      "loss 103.51964914535202\n",
      "accuracy 0.94\n",
      "loss 72.11636696637049\n",
      "accuracy 1.0\n",
      "loss 291.9393422192412\n",
      "accuracy 0.58\n",
      "loss 106.65514336128118\n",
      "accuracy 0.96\n",
      "loss 919.8116257201118\n",
      "accuracy 0.42\n",
      "loss 524.2559543161385\n",
      "accuracy 0.5\n",
      "loss 712.6273073703376\n",
      "accuracy 0.4\n",
      "loss 1004.5666495895789\n",
      "accuracy 0.44\n",
      "loss 643.5497545805163\n",
      "accuracy 0.48\n",
      "350 350 50 50  Was ist in createValidationSet los?\n",
      "Feature selection: skbFeatureSelection\n",
      "Start fitting SKB model\n",
      "Finished fitting SKB model\n"
     ]
    },
    {
     "name": "stderr",
     "output_type": "stream",
     "text": [
      "/opt/miniconda3/lib/python3.9/site-packages/sklearn/feature_selection/_univariate_selection.py:114: UserWarning: Features [ 161  162  163  164  165  166  167  168  217  218  219  220  221  222\n",
      "  223  224  225  226  227  228  229  230  231  232  233  234  235  236\n",
      "  237  238  239  240  249  250  251  252  253  254  255  256  417  418\n",
      "  419  420  421  422  423  424  473  474  475  476  477  478  479  480\n",
      "  481  482  483  484  485  486  487  488  489  490  491  492  493  494\n",
      "  495  496  505  506  507  508  509  510  511  512  673  674  675  676\n",
      "  677  678  679  680  729  730  731  732  733  734  735  736  737  738\n",
      "  739  740  741  742  743  744  745  746  747  748  749  750  751  752\n",
      "  761  762  763  764  765  766  767  768  929  930  931  932  933  934\n",
      "  935  936  985  986  987  988  989  990  991  992  993  994  995  996\n",
      "  997  998  999 1000 1001 1002 1003 1004 1005 1006 1007 1008 1017 1018\n",
      " 1019 1020 1021 1022 1023 1024] are constant.\n",
      "  warnings.warn(\"Features %s are constant.\" % constant_features_idx,\n",
      "/opt/miniconda3/lib/python3.9/site-packages/sklearn/feature_selection/_univariate_selection.py:116: RuntimeWarning: invalid value encountered in true_divide\n",
      "  f = msb / msw\n"
     ]
    },
    {
     "name": "stdout",
     "output_type": "stream",
     "text": [
      "Feature selection: sfsForwardFeatureSelection\n",
      "Feature selection: Genetic algorithm\n",
      "Train models\n"
     ]
    },
    {
     "name": "stderr",
     "output_type": "stream",
     "text": [
      "/opt/miniconda3/lib/python3.9/site-packages/sklearn/linear_model/_stochastic_gradient.py:574: ConvergenceWarning: Maximum number of iteration reached before convergence. Consider increasing max_iter to improve the fit.\n",
      "  warnings.warn(\"Maximum number of iteration reached before \"\n",
      "/opt/miniconda3/lib/python3.9/site-packages/sklearn/linear_model/_stochastic_gradient.py:574: ConvergenceWarning: Maximum number of iteration reached before convergence. Consider increasing max_iter to improve the fit.\n",
      "  warnings.warn(\"Maximum number of iteration reached before \"\n"
     ]
    },
    {
     "name": "stdout",
     "output_type": "stream",
     "text": [
      "Make predictions\n",
      "50 50\n",
      "loss 254.26507160840134\n",
      "accuracy 0.6\n",
      "loss 103.51964914535202\n",
      "accuracy 0.94\n",
      "loss 72.11636696637049\n",
      "accuracy 1.0\n",
      "loss 1089.321673459046\n",
      "accuracy 0.46\n",
      "loss 106.65514336128118\n",
      "accuracy 0.96\n",
      "loss 169.4617077192442\n",
      "accuracy 0.84\n",
      "loss 68.98087275044134\n",
      "accuracy 0.98\n",
      "loss 72.11636696637049\n",
      "accuracy 1.0\n",
      "loss 1089.321673459046\n",
      "accuracy 0.46\n",
      "loss 72.11636696637049\n",
      "accuracy 1.0\n",
      "350 350 50 50  Was ist in createValidationSet los?\n",
      "Feature selection: skbFeatureSelection\n",
      "Start fitting SKB model\n",
      "Finished fitting SKB model\n"
     ]
    },
    {
     "name": "stderr",
     "output_type": "stream",
     "text": [
      "/opt/miniconda3/lib/python3.9/site-packages/numpy/lib/function_base.py:2691: RuntimeWarning: invalid value encountered in true_divide\n",
      "  c /= stddev[:, None]\n",
      "/opt/miniconda3/lib/python3.9/site-packages/numpy/lib/function_base.py:2692: RuntimeWarning: invalid value encountered in true_divide\n",
      "  c /= stddev[None, :]\n",
      "/opt/miniconda3/lib/python3.9/site-packages/numpy/lib/function_base.py:2691: RuntimeWarning: invalid value encountered in true_divide\n",
      "  c /= stddev[:, None]\n",
      "/opt/miniconda3/lib/python3.9/site-packages/numpy/lib/function_base.py:2692: RuntimeWarning: invalid value encountered in true_divide\n",
      "  c /= stddev[None, :]\n",
      "/opt/miniconda3/lib/python3.9/site-packages/sklearn/feature_selection/_univariate_selection.py:114: UserWarning: Features [ 161  162  163  164  165  166  167  168  217  218  219  220  221  222\n",
      "  223  224  225  226  227  228  229  230  231  232  233  234  235  236\n",
      "  237  238  239  240  249  250  251  252  253  254  255  256  417  418\n",
      "  419  420  421  422  423  424  473  474  475  476  477  478  479  480\n",
      "  481  482  483  484  485  486  487  488  489  490  491  492  493  494\n",
      "  495  496  505  506  507  508  509  510  511  512  673  674  675  676\n",
      "  677  678  679  680  729  730  731  732  733  734  735  736  737  738\n",
      "  739  740  741  742  743  744  745  746  747  748  749  750  751  752\n",
      "  761  762  763  764  765  766  767  768  929  930  931  932  933  934\n",
      "  935  936  985  986  987  988  989  990  991  992  993  994  995  996\n",
      "  997  998  999 1000 1001 1002 1003 1004 1005 1006 1007 1008 1017 1018\n",
      " 1019 1020 1021 1022 1023 1024] are constant.\n",
      "  warnings.warn(\"Features %s are constant.\" % constant_features_idx,\n",
      "/opt/miniconda3/lib/python3.9/site-packages/sklearn/feature_selection/_univariate_selection.py:116: RuntimeWarning: invalid value encountered in true_divide\n",
      "  f = msb / msw\n"
     ]
    },
    {
     "name": "stdout",
     "output_type": "stream",
     "text": [
      "Feature selection: sfsForwardFeatureSelection\n",
      "Feature selection: Genetic algorithm\n",
      "Train models\n"
     ]
    },
    {
     "name": "stderr",
     "output_type": "stream",
     "text": [
      "/opt/miniconda3/lib/python3.9/site-packages/sklearn/linear_model/_stochastic_gradient.py:574: ConvergenceWarning: Maximum number of iteration reached before convergence. Consider increasing max_iter to improve the fit.\n",
      "  warnings.warn(\"Maximum number of iteration reached before \"\n",
      "/opt/miniconda3/lib/python3.9/site-packages/sklearn/linear_model/_stochastic_gradient.py:574: ConvergenceWarning: Maximum number of iteration reached before convergence. Consider increasing max_iter to improve the fit.\n",
      "  warnings.warn(\"Maximum number of iteration reached before \"\n"
     ]
    },
    {
     "name": "stdout",
     "output_type": "stream",
     "text": [
      "Make predictions\n",
      "50 50\n",
      "loss 254.26507160840134\n",
      "accuracy 0.6\n",
      "loss 103.51964914535202\n",
      "accuracy 0.94\n",
      "loss 72.11636696637049\n",
      "accuracy 1.0\n",
      "loss 113.0228118325195\n",
      "accuracy 0.48\n",
      "loss 106.65514336128118\n",
      "accuracy 0.96\n",
      "loss 0.0\n",
      "accuracy 0.54\n",
      "loss 470.9042126256529\n",
      "accuracy 0.42\n",
      "loss 596.469001321889\n",
      "accuracy 0.44\n",
      "loss 1089.321673459046\n",
      "accuracy 0.46\n",
      "loss 605.8754839696765\n",
      "accuracy 0.5\n",
      "350 350 50 50  Was ist in createValidationSet los?\n",
      "Feature selection: skbFeatureSelection\n",
      "Start fitting SKB model\n",
      "Finished fitting SKB model\n"
     ]
    },
    {
     "name": "stderr",
     "output_type": "stream",
     "text": [
      "/opt/miniconda3/lib/python3.9/site-packages/numpy/lib/function_base.py:2691: RuntimeWarning: invalid value encountered in true_divide\n",
      "  c /= stddev[:, None]\n",
      "/opt/miniconda3/lib/python3.9/site-packages/numpy/lib/function_base.py:2692: RuntimeWarning: invalid value encountered in true_divide\n",
      "  c /= stddev[None, :]\n",
      "/opt/miniconda3/lib/python3.9/site-packages/numpy/lib/function_base.py:2691: RuntimeWarning: invalid value encountered in true_divide\n",
      "  c /= stddev[:, None]\n",
      "/opt/miniconda3/lib/python3.9/site-packages/numpy/lib/function_base.py:2692: RuntimeWarning: invalid value encountered in true_divide\n",
      "  c /= stddev[None, :]\n",
      "/opt/miniconda3/lib/python3.9/site-packages/sklearn/feature_selection/_univariate_selection.py:114: UserWarning: Features [ 161  162  163  164  165  166  167  168  217  218  219  220  221  222\n",
      "  223  224  225  226  227  228  229  230  231  232  233  234  235  236\n",
      "  237  238  239  240  249  250  251  252  253  254  255  256  417  418\n",
      "  419  420  421  422  423  424  473  474  475  476  477  478  479  480\n",
      "  481  482  483  484  485  486  487  488  489  490  491  492  493  494\n",
      "  495  496  505  506  507  508  509  510  511  512  673  674  675  676\n",
      "  677  678  679  680  729  730  731  732  733  734  735  736  737  738\n",
      "  739  740  741  742  743  744  745  746  747  748  749  750  751  752\n",
      "  761  762  763  764  765  766  767  768  929  930  931  932  933  934\n",
      "  935  936  985  986  987  988  989  990  991  992  993  994  995  996\n",
      "  997  998  999 1000 1001 1002 1003 1004 1005 1006 1007 1008 1017 1018\n",
      " 1019 1020 1021 1022 1023 1024] are constant.\n",
      "  warnings.warn(\"Features %s are constant.\" % constant_features_idx,\n",
      "/opt/miniconda3/lib/python3.9/site-packages/sklearn/feature_selection/_univariate_selection.py:116: RuntimeWarning: invalid value encountered in true_divide\n",
      "  f = msb / msw\n"
     ]
    },
    {
     "name": "stdout",
     "output_type": "stream",
     "text": [
      "Feature selection: sfsForwardFeatureSelection\n",
      "Feature selection: Genetic algorithm\n",
      "Train models\n"
     ]
    },
    {
     "name": "stderr",
     "output_type": "stream",
     "text": [
      "/opt/miniconda3/lib/python3.9/site-packages/sklearn/linear_model/_stochastic_gradient.py:574: ConvergenceWarning: Maximum number of iteration reached before convergence. Consider increasing max_iter to improve the fit.\n",
      "  warnings.warn(\"Maximum number of iteration reached before \"\n"
     ]
    },
    {
     "name": "stdout",
     "output_type": "stream",
     "text": [
      "Make predictions\n",
      "50 50\n",
      "loss 254.26507160840134\n",
      "accuracy 0.6\n",
      "loss 103.51964914535202\n",
      "accuracy 0.94\n",
      "loss 72.11636696637049\n",
      "accuracy 1.0\n",
      "loss 1089.321673459046\n",
      "accuracy 0.46\n",
      "loss 106.65514336128118\n",
      "accuracy 0.96\n",
      "loss 169.4617077192442\n",
      "accuracy 0.84\n",
      "loss 68.98087275044134\n",
      "accuracy 0.98\n",
      "loss 72.11636696637049\n",
      "accuracy 1.0\n",
      "loss 75.34854122167967\n",
      "accuracy 0.5\n",
      "loss 109.79063757721032\n",
      "accuracy 0.98\n",
      "350 350 50 50  Was ist in createValidationSet los?\n",
      "Feature selection: skbFeatureSelection\n",
      "Start fitting SKB model\n",
      "Finished fitting SKB model\n"
     ]
    },
    {
     "name": "stderr",
     "output_type": "stream",
     "text": [
      "/opt/miniconda3/lib/python3.9/site-packages/numpy/lib/function_base.py:2691: RuntimeWarning: invalid value encountered in true_divide\n",
      "  c /= stddev[:, None]\n",
      "/opt/miniconda3/lib/python3.9/site-packages/numpy/lib/function_base.py:2692: RuntimeWarning: invalid value encountered in true_divide\n",
      "  c /= stddev[None, :]\n",
      "/opt/miniconda3/lib/python3.9/site-packages/sklearn/feature_selection/_univariate_selection.py:114: UserWarning: Features [ 161  162  163  164  165  166  167  168  217  218  219  220  221  222\n",
      "  223  224  225  226  227  228  229  230  231  232  233  234  235  236\n",
      "  237  238  239  240  249  250  251  252  253  254  255  256  417  418\n",
      "  419  420  421  422  423  424  473  474  475  476  477  478  479  480\n",
      "  481  482  483  484  485  486  487  488  489  490  491  492  493  494\n",
      "  495  496  505  506  507  508  509  510  511  512  673  674  675  676\n",
      "  677  678  679  680  729  730  731  732  733  734  735  736  737  738\n",
      "  739  740  741  742  743  744  745  746  747  748  749  750  751  752\n",
      "  761  762  763  764  765  766  767  768  929  930  931  932  933  934\n",
      "  935  936  985  986  987  988  989  990  991  992  993  994  995  996\n",
      "  997  998  999 1000 1001 1002 1003 1004 1005 1006 1007 1008 1017 1018\n",
      " 1019 1020 1021 1022 1023 1024] are constant.\n",
      "  warnings.warn(\"Features %s are constant.\" % constant_features_idx,\n",
      "/opt/miniconda3/lib/python3.9/site-packages/sklearn/feature_selection/_univariate_selection.py:116: RuntimeWarning: invalid value encountered in true_divide\n",
      "  f = msb / msw\n"
     ]
    },
    {
     "name": "stdout",
     "output_type": "stream",
     "text": [
      "Feature selection: sfsForwardFeatureSelection\n",
      "Feature selection: Genetic algorithm\n",
      "Train models\n"
     ]
    },
    {
     "name": "stderr",
     "output_type": "stream",
     "text": [
      "/opt/miniconda3/lib/python3.9/site-packages/sklearn/linear_model/_stochastic_gradient.py:574: ConvergenceWarning: Maximum number of iteration reached before convergence. Consider increasing max_iter to improve the fit.\n",
      "  warnings.warn(\"Maximum number of iteration reached before \"\n",
      "/opt/miniconda3/lib/python3.9/site-packages/sklearn/linear_model/_stochastic_gradient.py:574: ConvergenceWarning: Maximum number of iteration reached before convergence. Consider increasing max_iter to improve the fit.\n",
      "  warnings.warn(\"Maximum number of iteration reached before \"\n"
     ]
    },
    {
     "name": "stdout",
     "output_type": "stream",
     "text": [
      "Make predictions\n",
      "50 50\n",
      "loss 254.26507160840134\n",
      "accuracy 0.6\n",
      "loss 103.51964914535202\n",
      "accuracy 0.94\n",
      "loss 72.11636696637049\n",
      "accuracy 1.0\n",
      "loss 291.9393422192412\n",
      "accuracy 0.58\n",
      "loss 106.65514336128118\n",
      "accuracy 0.96\n",
      "loss 392.420177188044\n",
      "accuracy 0.44\n",
      "loss 590.1980128900307\n",
      "accuracy 0.4\n",
      "loss 605.8754839696765\n",
      "accuracy 0.5\n",
      "loss 521.1204601002094\n",
      "accuracy 0.48\n",
      "loss 674.9530367594978\n",
      "accuracy 0.42\n",
      "350 350 50 50  Was ist in createValidationSet los?\n",
      "Feature selection: skbFeatureSelection\n",
      "Start fitting SKB model\n",
      "Finished fitting SKB model\n"
     ]
    },
    {
     "name": "stderr",
     "output_type": "stream",
     "text": [
      "/opt/miniconda3/lib/python3.9/site-packages/sklearn/feature_selection/_univariate_selection.py:114: UserWarning: Features [ 161  162  163  164  165  166  167  168  217  218  219  220  221  222\n",
      "  223  224  225  226  227  228  229  230  231  232  233  234  235  236\n",
      "  237  238  239  240  249  250  251  252  253  254  255  256  417  418\n",
      "  419  420  421  422  423  424  473  474  475  476  477  478  479  480\n",
      "  481  482  483  484  485  486  487  488  489  490  491  492  493  494\n",
      "  495  496  505  506  507  508  509  510  511  512  673  674  675  676\n",
      "  677  678  679  680  729  730  731  732  733  734  735  736  737  738\n",
      "  739  740  741  742  743  744  745  746  747  748  749  750  751  752\n",
      "  761  762  763  764  765  766  767  768  929  930  931  932  933  934\n",
      "  935  936  985  986  987  988  989  990  991  992  993  994  995  996\n",
      "  997  998  999 1000 1001 1002 1003 1004 1005 1006 1007 1008 1017 1018\n",
      " 1019 1020 1021 1022 1023 1024] are constant.\n",
      "  warnings.warn(\"Features %s are constant.\" % constant_features_idx,\n",
      "/opt/miniconda3/lib/python3.9/site-packages/sklearn/feature_selection/_univariate_selection.py:116: RuntimeWarning: invalid value encountered in true_divide\n",
      "  f = msb / msw\n"
     ]
    },
    {
     "name": "stdout",
     "output_type": "stream",
     "text": [
      "Feature selection: sfsForwardFeatureSelection\n",
      "Feature selection: Genetic algorithm\n",
      "Train models\n"
     ]
    },
    {
     "name": "stderr",
     "output_type": "stream",
     "text": [
      "/opt/miniconda3/lib/python3.9/site-packages/sklearn/linear_model/_stochastic_gradient.py:574: ConvergenceWarning: Maximum number of iteration reached before convergence. Consider increasing max_iter to improve the fit.\n",
      "  warnings.warn(\"Maximum number of iteration reached before \"\n",
      "/opt/miniconda3/lib/python3.9/site-packages/sklearn/linear_model/_stochastic_gradient.py:574: ConvergenceWarning: Maximum number of iteration reached before convergence. Consider increasing max_iter to improve the fit.\n",
      "  warnings.warn(\"Maximum number of iteration reached before \"\n"
     ]
    },
    {
     "name": "stdout",
     "output_type": "stream",
     "text": [
      "Make predictions\n",
      "50 50\n",
      "loss 254.26507160840134\n",
      "accuracy 0.6\n",
      "loss 103.51964914535202\n",
      "accuracy 0.94\n",
      "loss 72.11636696637049\n",
      "accuracy 1.0\n",
      "loss 276.2618711395954\n",
      "accuracy 0.48\n",
      "loss 106.65514336128118\n",
      "accuracy 0.96\n",
      "loss 103.51964914535202\n",
      "accuracy 0.94\n",
      "loss 109.79063757721032\n",
      "accuracy 0.98\n",
      "loss 72.11636696637049\n",
      "accuracy 1.0\n",
      "loss 1089.321673459046\n",
      "accuracy 0.46\n",
      "loss 72.11636696637049\n",
      "accuracy 1.0\n",
      "350 350 50 50  Was ist in createValidationSet los?\n",
      "Feature selection: skbFeatureSelection\n",
      "Start fitting SKB model\n",
      "Finished fitting SKB model\n"
     ]
    },
    {
     "name": "stderr",
     "output_type": "stream",
     "text": [
      "/opt/miniconda3/lib/python3.9/site-packages/numpy/lib/function_base.py:2691: RuntimeWarning: invalid value encountered in true_divide\n",
      "  c /= stddev[:, None]\n",
      "/opt/miniconda3/lib/python3.9/site-packages/numpy/lib/function_base.py:2692: RuntimeWarning: invalid value encountered in true_divide\n",
      "  c /= stddev[None, :]\n",
      "/opt/miniconda3/lib/python3.9/site-packages/sklearn/feature_selection/_univariate_selection.py:114: UserWarning: Features [ 161  162  163  164  165  166  167  168  217  218  219  220  221  222\n",
      "  223  224  225  226  227  228  229  230  231  232  233  234  235  236\n",
      "  237  238  239  240  249  250  251  252  253  254  255  256  417  418\n",
      "  419  420  421  422  423  424  473  474  475  476  477  478  479  480\n",
      "  481  482  483  484  485  486  487  488  489  490  491  492  493  494\n",
      "  495  496  505  506  507  508  509  510  511  512  673  674  675  676\n",
      "  677  678  679  680  729  730  731  732  733  734  735  736  737  738\n",
      "  739  740  741  742  743  744  745  746  747  748  749  750  751  752\n",
      "  761  762  763  764  765  766  767  768  929  930  931  932  933  934\n",
      "  935  936  985  986  987  988  989  990  991  992  993  994  995  996\n",
      "  997  998  999 1000 1001 1002 1003 1004 1005 1006 1007 1008 1017 1018\n",
      " 1019 1020 1021 1022 1023 1024] are constant.\n",
      "  warnings.warn(\"Features %s are constant.\" % constant_features_idx,\n",
      "/opt/miniconda3/lib/python3.9/site-packages/sklearn/feature_selection/_univariate_selection.py:116: RuntimeWarning: invalid value encountered in true_divide\n",
      "  f = msb / msw\n"
     ]
    },
    {
     "name": "stdout",
     "output_type": "stream",
     "text": [
      "Feature selection: sfsForwardFeatureSelection\n",
      "Feature selection: Genetic algorithm\n",
      "Train models\n"
     ]
    },
    {
     "name": "stderr",
     "output_type": "stream",
     "text": [
      "/opt/miniconda3/lib/python3.9/site-packages/sklearn/linear_model/_stochastic_gradient.py:574: ConvergenceWarning: Maximum number of iteration reached before convergence. Consider increasing max_iter to improve the fit.\n",
      "  warnings.warn(\"Maximum number of iteration reached before \"\n",
      "/opt/miniconda3/lib/python3.9/site-packages/numpy/lib/function_base.py:2691: RuntimeWarning: invalid value encountered in true_divide\n",
      "  c /= stddev[:, None]\n",
      "/opt/miniconda3/lib/python3.9/site-packages/numpy/lib/function_base.py:2692: RuntimeWarning: invalid value encountered in true_divide\n",
      "  c /= stddev[None, :]\n"
     ]
    },
    {
     "name": "stdout",
     "output_type": "stream",
     "text": [
      "Make predictions\n",
      "50 50\n",
      "loss 254.26507160840134\n",
      "accuracy 0.6\n",
      "loss 103.51964914535202\n",
      "accuracy 0.94\n",
      "loss 72.11636696637049\n",
      "accuracy 1.0\n",
      "loss 279.3973653555246\n",
      "accuracy 0.5\n",
      "loss 106.65514336128118\n",
      "accuracy 0.96\n",
      "loss 376.6943660887083\n",
      "accuracy 0.6\n",
      "loss 555.65923649512\n",
      "accuracy 0.44\n",
      "loss 637.278766148658\n",
      "accuracy 0.44\n",
      "loss 1089.321673459046\n",
      "accuracy 0.46\n",
      "loss 577.6076960066241\n",
      "accuracy 0.58\n"
     ]
    }
   ],
   "source": [
    "model = cortex(data_raw, y, reduce=False, repititions=8, min_number_of_features=5, max_number_of_features=50)"
   ]
  },
  {
   "cell_type": "code",
   "execution_count": null,
   "id": "d78fdc97",
   "metadata": {},
   "outputs": [],
   "source": [
    "pred"
   ]
  },
  {
   "cell_type": "code",
   "execution_count": 137,
   "id": "595cfeb8",
   "metadata": {},
   "outputs": [
    {
     "data": {
      "text/plain": [
       "[<matplotlib.lines.Line2D at 0x7fea9b7a8ee0>]"
      ]
     },
     "execution_count": 137,
     "metadata": {},
     "output_type": "execute_result"
    },
    {
     "data": {
      "image/png": "[encoded data removed]",
      "text/plain": [
       "<Figure size 432x288 with 1 Axes>"
      ]
     },
     "metadata": {
      "needs_background": "light"
     },
     "output_type": "display_data"
    }
   ],
   "source": [
    "plt.plot(pred)\n",
    "plt.plot(y_val)"
   ]
  },
  {
   "cell_type": "code",
   "execution_count": 279,
   "id": "88f250b6",
   "metadata": {},
   "outputs": [
    {
     "ename": "TypeError",
     "evalue": "training() missing 1 required positional argument: 'reduce'",
     "output_type": "error",
     "traceback": [
      "\u001b[0;31m---------------------------------------------------------------------------\u001b[0m",
      "\u001b[0;31mTypeError\u001b[0m                                 Traceback (most recent call last)",
      "\u001b[0;32m/var/folders/m7/q114wcy152nc5tqs2955xk0w0000gn/T/ipykernel_5783/2752116085.py\u001b[0m in \u001b[0;36m<module>\u001b[0;34m\u001b[0m\n\u001b[0;32m----> 1\u001b[0;31m \u001b[0mmodels\u001b[0m\u001b[0;34m,\u001b[0m \u001b[0mevaluation\u001b[0m\u001b[0;34m,\u001b[0m \u001b[0mmodel_descriptions\u001b[0m\u001b[0;34m,\u001b[0m \u001b[0mpredictions\u001b[0m\u001b[0;34m,\u001b[0m \u001b[0mindices\u001b[0m \u001b[0;34m=\u001b[0m \u001b[0mtraining\u001b[0m\u001b[0;34m(\u001b[0m\u001b[0mdata_raw\u001b[0m\u001b[0;34m,\u001b[0m \u001b[0my\u001b[0m\u001b[0;34m)\u001b[0m\u001b[0;34m\u001b[0m\u001b[0;34m\u001b[0m\u001b[0m\n\u001b[0m",
      "\u001b[0;31mTypeError\u001b[0m: training() missing 1 required positional argument: 'reduce'"
     ]
    }
   ],
   "source": [
    "models, evaluation, model_descriptions, predictions, indices = training(data_raw, y)"
   ]
  },
  {
   "cell_type": "code",
   "execution_count": 36,
   "id": "d4fc90c3",
   "metadata": {},
   "outputs": [
    {
     "data": {
      "text/plain": [
       "[array([ 717,  726,  262, 1027, 1035,  200,  199,  437,  600,    6]),\n",
       " array([ 717,  726,  262, 1027, 1035,  200,  199,  437,  600,    6]),\n",
       " array([ 717,  726,  262, 1027, 1035,  200,  199,  437,  600,    6]),\n",
       " array([ 717,  726,  262, 1027, 1035,  200,  199,  437,  600,    6]),\n",
       " array([ 717,  726,  262, 1027, 1035,  200,  199,  437,  600,    6]),\n",
       " [88, 408, 625, 643, 673, 959, 1037, 1041, 1043, 1044],\n",
       " [88, 408, 625, 643, 673, 959, 1037, 1041, 1043, 1044],\n",
       " [88, 408, 625, 643, 673, 959, 1037, 1041, 1043, 1044],\n",
       " [88, 408, 625, 643, 673, 959, 1037, 1041, 1043, 1044],\n",
       " [88, 408, 625, 643, 673, 959, 1037, 1041, 1043, 1044]]"
      ]
     },
     "execution_count": 36,
     "metadata": {},
     "output_type": "execute_result"
    }
   ],
   "source": [
    "indices"
   ]
  },
  {
   "cell_type": "code",
   "execution_count": 57,
   "id": "983fc5c3",
   "metadata": {},
   "outputs": [
    {
     "ename": "NameError",
     "evalue": "name 'evaluation' is not defined",
     "output_type": "error",
     "traceback": [
      "\u001b[0;31m---------------------------------------------------------------------------\u001b[0m",
      "\u001b[0;31mNameError\u001b[0m                                 Traceback (most recent call last)",
      "\u001b[0;32m/var/folders/m7/q114wcy152nc5tqs2955xk0w0000gn/T/ipykernel_97857/464375485.py\u001b[0m in \u001b[0;36m<module>\u001b[0;34m\u001b[0m\n\u001b[1;32m      1\u001b[0m \u001b[0mplt\u001b[0m\u001b[0;34m.\u001b[0m\u001b[0mfigure\u001b[0m\u001b[0;34m(\u001b[0m\u001b[0mfigsize\u001b[0m\u001b[0;34m=\u001b[0m\u001b[0;34m(\u001b[0m\u001b[0;36m20\u001b[0m\u001b[0;34m,\u001b[0m \u001b[0;36m8\u001b[0m\u001b[0;34m)\u001b[0m\u001b[0;34m)\u001b[0m\u001b[0;34m\u001b[0m\u001b[0;34m\u001b[0m\u001b[0m\n\u001b[0;32m----> 2\u001b[0;31m \u001b[0mplt\u001b[0m\u001b[0;34m.\u001b[0m\u001b[0mbar\u001b[0m\u001b[0;34m(\u001b[0m\u001b[0mheight\u001b[0m\u001b[0;34m=\u001b[0m\u001b[0mevaluation\u001b[0m\u001b[0;34m,\u001b[0m \u001b[0mx\u001b[0m\u001b[0;34m=\u001b[0m\u001b[0mmodel_descriptions\u001b[0m\u001b[0;34m)\u001b[0m\u001b[0;34m\u001b[0m\u001b[0;34m\u001b[0m\u001b[0m\n\u001b[0m\u001b[1;32m      3\u001b[0m \u001b[0mplt\u001b[0m\u001b[0;34m.\u001b[0m\u001b[0mtitle\u001b[0m\u001b[0;34m(\u001b[0m\u001b[0;34m\"Model performance\"\u001b[0m\u001b[0;34m)\u001b[0m\u001b[0;34m\u001b[0m\u001b[0;34m\u001b[0m\u001b[0m\n\u001b[1;32m      4\u001b[0m \u001b[0mplt\u001b[0m\u001b[0;34m.\u001b[0m\u001b[0mshow\u001b[0m\u001b[0;34m(\u001b[0m\u001b[0;34m)\u001b[0m\u001b[0;34m\u001b[0m\u001b[0;34m\u001b[0m\u001b[0m\n",
      "\u001b[0;31mNameError\u001b[0m: name 'evaluation' is not defined"
     ]
    },
    {
     "data": {
      "text/plain": [
       "<Figure size 1440x576 with 0 Axes>"
      ]
     },
     "metadata": {},
     "output_type": "display_data"
    }
   ],
   "source": [
    "plt.figure(figsize=(20, 8))\n",
    "plt.bar(height=evaluation, x=model_descriptions)\n",
    "plt.title(\"Model performance\")\n",
    "plt.show()"
   ]
  },
  {
   "cell_type": "code",
   "execution_count": null,
   "id": "21ef6126",
   "metadata": {},
   "outputs": [],
   "source": []
  },
  {
   "cell_type": "code",
   "execution_count": null,
   "id": "615f94e4",
   "metadata": {},
   "outputs": [],
   "source": []
  },
  {
   "cell_type": "code",
   "execution_count": null,
   "id": "7e33bdb7",
   "metadata": {},
   "outputs": [],
   "source": []
  },
  {
   "cell_type": "code",
   "execution_count": null,
   "id": "7fb218ee",
   "metadata": {},
   "outputs": [],
   "source": []
  }
 ],
 "metadata": {
  "kernelspec": {
   "display_name": "Python 3 (ipykernel)",
   "language": "python",
   "name": "python3"
  },
  "language_info": {
   "codemirror_mode": {
    "name": "ipython",
    "version": 3
   },
   "file_extension": ".py",
   "mimetype": "text/x-python",
   "name": "python",
   "nbconvert_exporter": "python",
   "pygments_lexer": "ipython3",
   "version": "3.9.5"
  }
 },
 "nbformat": 4,
 "nbformat_minor": 5
}
